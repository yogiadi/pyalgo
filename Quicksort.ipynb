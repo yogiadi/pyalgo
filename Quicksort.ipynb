{
  "nbformat": 4,
  "nbformat_minor": 0,
  "metadata": {
    "colab": {
      "name": "Quicksort.ipynb",
      "version": "0.3.2",
      "provenance": [],
      "collapsed_sections": []
    }
  },
  "cells": [
    {
      "cell_type": "markdown",
      "metadata": {
        "id": "view-in-github",
        "colab_type": "text"
      },
      "source": [
        "[View in Colaboratory](https://colab.research.google.com/github/yogiadi/pyalgo/blob/master/Quicksort.ipynb)"
      ]
    },
    {
      "metadata": {
        "id": "K8MAPne8g8yH",
        "colab_type": "code",
        "colab": {}
      },
      "cell_type": "code",
      "source": [
        "def partition(A,p,q):\n",
        "  print(\"A is \",A,\" p is \",p,\" q is \",q)\n",
        "  i=p-1\n",
        "  x=A[q]\n",
        "  print(\"i is \",i)\n",
        "  for j in range(p,q):\n",
        "    print(\"For loop\")\n",
        "    if x > A[j]:\n",
        "      i=i+1\n",
        "      print(\"i is \",i)\n",
        "      print(\"A[q] \",A[q],\" is greater than A[j] \",A[j])\n",
        "      A[i],A[j]=A[j],A[i]\n",
        "  print(\"Returning i is \",i+1)\n",
        "  A[i+1],A[q]=A[q],A[i+1]\n",
        "  return i+1"
      ],
      "execution_count": 0,
      "outputs": []
    },
    {
      "metadata": {
        "id": "dvbQQiu7hErF",
        "colab_type": "code",
        "colab": {}
      },
      "cell_type": "code",
      "source": [
        "def quicksort(A,p,r):\n",
        "  print(\"A is \",A,\" p is \",p,\" r is \",r)\n",
        "  if p < r:\n",
        "    q=partition(A,p,r)\n",
        "    quicksort(A,p,q-1)\n",
        "    quicksort(A,q+1,r)"
      ],
      "execution_count": 0,
      "outputs": []
    },
    {
      "metadata": {
        "id": "d7RvAvRkhRVL",
        "colab_type": "code",
        "colab": {}
      },
      "cell_type": "code",
      "source": [
        ""
      ],
      "execution_count": 0,
      "outputs": []
    }
  ]
}