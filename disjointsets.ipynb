{
  "nbformat": 4,
  "nbformat_minor": 0,
  "metadata": {
    "colab": {
      "name": "disjointsets.ipynb",
      "version": "0.3.2",
      "provenance": [],
      "collapsed_sections": []
    }
  },
  "cells": [
    {
      "cell_type": "markdown",
      "metadata": {
        "id": "view-in-github",
        "colab_type": "text"
      },
      "source": [
        "[View in Colaboratory](https://colab.research.google.com/github/yogiadi/pyalgo/blob/master/disjointsets.ipynb)"
      ]
    },
    {
      "metadata": {
        "id": "c54iI90ZI3m2",
        "colab_type": "code",
        "colab": {}
      },
      "cell_type": "code",
      "source": [
        "class  dsets:\n",
        "\t\"\"\"docstring for  \"\"\"\n",
        "\tdef __init__(self,name):\n",
        "\t\tself.parent=self\n",
        "\t\tself.name=name\n",
        "\t\tself.rank=0"
      ],
      "execution_count": 0,
      "outputs": []
    },
    {
      "metadata": {
        "id": "UVjJYIi_JF7R",
        "colab_type": "code",
        "colab": {}
      },
      "cell_type": "code",
      "source": [
        "def union(dsets1,dsets2):\n",
        "\tlink(find_set(dsets1),find_set(dsets2))"
      ],
      "execution_count": 0,
      "outputs": []
    },
    {
      "metadata": {
        "id": "O415uuQgJLEc",
        "colab_type": "code",
        "colab": {}
      },
      "cell_type": "code",
      "source": [
        "\n",
        "def link(dsets1,dsets2):\n",
        "\tif dsets1.rank > dsets2.rank :\n",
        "\t\tdsets2.parent=dsets1\n",
        "\telse :\n",
        "\t\tdsets1.parent=dsets2\n",
        "\t\tif (dsets1.rank == dsets2.rank):\n",
        "\t\t\tdsets2.rank=dsets2.rank +1"
      ],
      "execution_count": 0,
      "outputs": []
    },
    {
      "metadata": {
        "id": "O3jeDfPaJOZj",
        "colab_type": "code",
        "colab": {}
      },
      "cell_type": "code",
      "source": [
        "def find_set(dsets):\n",
        "\tif dsets != dsets.parent:\n",
        "\t\tdsets.parent=find_set(dsets.parent)\n",
        "\treturn dsets.parent"
      ],
      "execution_count": 0,
      "outputs": []
    },
    {
      "metadata": {
        "id": "GIjXyPxiJPYs",
        "colab_type": "code",
        "colab": {
          "base_uri": "https://localhost:8080/",
          "height": 34
        },
        "outputId": "dd995fc9-b5e2-4d32-ca59-d516ef3b8d01"
      },
      "cell_type": "code",
      "source": [
        "a=dsets('a')\n",
        "b=dsets('b')\n",
        "c=dsets('c')\n",
        "d=dsets('d')\n",
        "a=dsets('a')\n",
        "b=dsets('b')\n",
        "c=dsets('c')\n",
        "d=dsets('d')\n",
        "union(a,b)\n",
        "union(b,c)\n",
        "union(c,d)\n",
        "union(a,c)\n",
        "a.rank\n",
        "b.rank\n",
        "c.rank\n",
        "d.rank"
      ],
      "execution_count": 5,
      "outputs": [
        {
          "output_type": "execute_result",
          "data": {
            "text/plain": [
              "0"
            ]
          },
          "metadata": {
            "tags": []
          },
          "execution_count": 5
        }
      ]
    },
    {
      "metadata": {
        "id": "PKLtQ1p0JesI",
        "colab_type": "code",
        "colab": {}
      },
      "cell_type": "code",
      "source": [
        ""
      ],
      "execution_count": 0,
      "outputs": []
    }
  ]
}