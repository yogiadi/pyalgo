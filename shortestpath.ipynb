{
  "nbformat": 4,
  "nbformat_minor": 0,
  "metadata": {
    "colab": {
      "name": "shortestpath.ipynb",
      "version": "0.3.2",
      "provenance": []
    }
  },
  "cells": [
    {
      "cell_type": "markdown",
      "metadata": {
        "id": "view-in-github",
        "colab_type": "text"
      },
      "source": [
        "[View in Colaboratory](https://colab.research.google.com/github/yogiadi/pyalgo/blob/master/shortestpath.ipynb)"
      ]
    },
    {
      "metadata": {
        "id": "R7KNMVNZSnPv",
        "colab_type": "code",
        "colab": {}
      },
      "cell_type": "code",
      "source": [
        "import numpy as np\n",
        "W=[[0,3,8,np.inf,-4],[np.inf,0,np.inf,1,7],[np.inf,4,0,np.inf,np.inf],[2,np.inf,-5,0,np.inf],[np.inf,np.inf,np.inf,6,0]]\n",
        "\n",
        "L=[[np.inf for i in range(5)] for i in range(5)]"
      ],
      "execution_count": 0,
      "outputs": []
    },
    {
      "metadata": {
        "id": "8B93MODITJlC",
        "colab_type": "code",
        "colab": {}
      },
      "cell_type": "code",
      "source": [
        "def extend_shortest_path(L,W):\n",
        "\tn = len(L)\n",
        "\tL_dash=[[np.inf for i in range(n)] for i in range(n)]\n",
        "\tfor i in range(n):\n",
        "\t\tfor j in range(n):\n",
        "\t\t\tfor k in range(n):\n",
        "\t\t\t\tL_dash[i][j]=min(L_dash[i][j] , L[i][k]+W[k][j])\n",
        "\treturn L_dash\n"
      ],
      "execution_count": 0,
      "outputs": []
    },
    {
      "metadata": {
        "id": "kUMEu6nLTSG6",
        "colab_type": "code",
        "colab": {}
      },
      "cell_type": "code",
      "source": [
        "def slow_all_pairs_shortest_path(W):\n",
        "\tn=len(W)\n",
        "\tbase_L = W\n",
        "\tfor m in range(1,n):\n",
        "\t\tL_temp=[[np.inf for i in range(n)] for i in range(n)]\n",
        "\t\tL_temp=extend_shortest_path(base_L ,W)\n",
        "\t\tbase_L =L_temp\n",
        "\treturn base_L "
      ],
      "execution_count": 0,
      "outputs": []
    },
    {
      "metadata": {
        "id": "8ivuO21yTUV9",
        "colab_type": "code",
        "colab": {}
      },
      "cell_type": "code",
      "source": [
        "def faster_all_pairs_shortest_path(W):\n",
        "\tn=len(W)\n",
        "\tbase_L=W\n",
        "\tfor m in range(1,n):\n",
        "\t\tL_temp=[[np.inf for i in range(n)] for i in range(n)]\n",
        "\t\tL_temp=extend_shortest_path(base_L ,base_L)\n",
        "\t\tbase_L=L_temp\n",
        "\t\tm=2*m\n",
        "\treturn base_L"
      ],
      "execution_count": 0,
      "outputs": []
    },
    {
      "metadata": {
        "id": "l2LYBWhFTZir",
        "colab_type": "code",
        "colab": {}
      },
      "cell_type": "code",
      "source": [
        "final_L=faster_all_pairs_shortest_path(W)"
      ],
      "execution_count": 0,
      "outputs": []
    },
    {
      "metadata": {
        "id": "cm49ZUX2TbJZ",
        "colab_type": "code",
        "colab": {}
      },
      "cell_type": "code",
      "source": [
        ""
      ],
      "execution_count": 0,
      "outputs": []
    }
  ]
}