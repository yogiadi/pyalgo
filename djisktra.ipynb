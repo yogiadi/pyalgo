{
  "nbformat": 4,
  "nbformat_minor": 0,
  "metadata": {
    "colab": {
      "name": "djisktra.ipynb",
      "version": "0.3.2",
      "provenance": [],
      "collapsed_sections": []
    }
  },
  "cells": [
    {
      "cell_type": "markdown",
      "metadata": {
        "id": "view-in-github",
        "colab_type": "text"
      },
      "source": [
        "[View in Colaboratory](https://colab.research.google.com/github/yogiadi/pyalgo/blob/master/djisktra.ipynb)"
      ]
    },
    {
      "metadata": {
        "id": "hIwu4LtvJ3y0",
        "colab_type": "code",
        "colab": {}
      },
      "cell_type": "code",
      "source": [
        "class Vertex:\n",
        "\tdef __init__(self,name):\n",
        "\t\tself.name=name\n",
        "\t\tself.key=np.inf\n",
        "\t\tself.parent=None\n",
        "\t\tself.neighbours={}"
      ],
      "execution_count": 0,
      "outputs": []
    },
    {
      "metadata": {
        "id": "n-QcR2F_KLNq",
        "colab_type": "code",
        "colab": {}
      },
      "cell_type": "code",
      "source": [
        "class Graph:\n",
        "\tdef __init__(self,name):\n",
        "\t\tself.name=name\n",
        "\t\tself.vertices=[]\n",
        "\t\tself.edges=[]\n",
        "\tdef add_edges(self,weight,vertex1,vertex2):\n",
        "\t\tif vertex1 not in self.vertices:\n",
        "\t\t\tself.vertices.append(vertex1)\n",
        "\t\tif vertex2 not in self.vertices:\n",
        "\t\t\tself.vertices.append(vertex2)\n",
        "\t\tself.edges.append([weight]+[vertex1]+[vertex2])\n",
        "\t\tlist=[weight]+[vertex1]+[vertex2]\n",
        "\t\tif list not in self.edges:\n",
        "\t\t\tself.edges.append(list)\n",
        "\t\tvertex1.neighbours[vertex2]=weight"
      ],
      "execution_count": 0,
      "outputs": []
    },
    {
      "metadata": {
        "id": "0OIQOlSuKSAq",
        "colab_type": "code",
        "colab": {}
      },
      "cell_type": "code",
      "source": [
        "def build_min_heap(arr):\n",
        "  print(\"Calling build_min_heap\")\n",
        "  len_arr=len(arr)\n",
        "  print(\"Length of Array is \",len_arr)\n",
        "  index=(len_arr-1)//2\n",
        "  print(\"Index is \",index)\n",
        "  while(index>=0):\n",
        "    print(\"In while loop\")\n",
        "    print(\"Index is \",index)\n",
        "    min_heapify(arr,index,len_arr)\n",
        "    index=index-1"
      ],
      "execution_count": 0,
      "outputs": []
    },
    {
      "metadata": {
        "id": "vQNAnrfCKa_O",
        "colab_type": "code",
        "colab": {}
      },
      "cell_type": "code",
      "source": [
        "def min_heapify(arr,index,len_arr):\n",
        "  left_node=2*index +1\n",
        "  print(\"Left node is \",left_node)\n",
        "  right_node=2*index+2\n",
        "  print(\"Right is \",right_node)\n",
        "  min=index\n",
        "  if (left_node<=len_arr-1 and arr[left_node].key< arr[min].key):\n",
        "    print(\"Left node \",arr[left_node].name,\" is greater than min \",arr[min].name)\n",
        "    min=left_node\n",
        "  if (right_node<=len_arr-1 and arr[right_node].key< arr[min].key):\n",
        "    print(\"Right \",arr[right_node].name,\" is greater than min \",arr[min].name)\n",
        "    min=right_node\n",
        "  if ( min != index):\n",
        "    print(\"Swap \",arr[min].name,\" \",arr[index].name)\n",
        "    arr[min],arr[index]=arr[index],arr[min]\n",
        "    print(\"Calling min_heapify again on min \",min)\n",
        "    min_heapify(arr,min,len_arr)"
      ],
      "execution_count": 0,
      "outputs": []
    },
    {
      "metadata": {
        "id": "RIAfy5cCKznL",
        "colab_type": "code",
        "colab": {}
      },
      "cell_type": "code",
      "source": [
        "def heap_minimum(arr):\n",
        "  return arr[0]"
      ],
      "execution_count": 0,
      "outputs": []
    },
    {
      "metadata": {
        "id": "q9hmVdXRK40E",
        "colab_type": "code",
        "colab": {}
      },
      "cell_type": "code",
      "source": [
        "def heap_extract_min(arr):\n",
        "  min=arr[0]\n",
        "  len_arr=len(arr)\n",
        "  arr[0]=arr[len_arr-1]\n",
        "  del arr[len_arr-1:]\n",
        "  min_heapify(arr,0,len_arr-1)\n",
        "  return min"
      ],
      "execution_count": 0,
      "outputs": []
    },
    {
      "metadata": {
        "id": "Sl-YcfiyK7Gg",
        "colab_type": "code",
        "colab": {}
      },
      "cell_type": "code",
      "source": [
        "def min_heap_insert(arr,element):\n",
        "  arr.append(element)\n",
        "  print(\"Array is \",arr)\n",
        "  len_arr=len(arr)-1\n",
        "  print(\"Array of length is \", len_arr)\n",
        "  heap_increase_key(arr,len_arr)"
      ],
      "execution_count": 0,
      "outputs": []
    },
    {
      "metadata": {
        "id": "28H_DL-HK_Zg",
        "colab_type": "code",
        "colab": {}
      },
      "cell_type": "code",
      "source": [
        "\n",
        "def heap_increase_key(arr,index):\n",
        "  while index > 0 and arr[index//2].key>arr[index].key:\n",
        "    arr[index],arr[index//2]=arr[index//2],arr[index]\n",
        "    index=index//2"
      ],
      "execution_count": 0,
      "outputs": []
    },
    {
      "metadata": {
        "id": "l2Owz2oGLFYm",
        "colab_type": "code",
        "colab": {}
      },
      "cell_type": "code",
      "source": [
        "def dijkstra(graph,vertex,queue):\n",
        " \twhile queue != []:\n",
        " \t\tmin_vert=heap_extract_min(queue)\n",
        " \t\tfor vert_itr in min_vert.neighbours.keys():\n",
        " \t\t\tif vert_itr in queue:\n",
        " \t\t\t\trelax(min_vert.neighbours[vert_itr],min_vert,vert_itr)\n",
        " \t\t\t\theap_increase_key(queue,queue.index(vert_itr))"
      ],
      "execution_count": 0,
      "outputs": []
    },
    {
      "metadata": {
        "id": "56PQkSbHLJq1",
        "colab_type": "code",
        "colab": {}
      },
      "cell_type": "code",
      "source": [
        "def relax(weight,vertex1,vertex2):\n",
        "\tif vertex2.key > vertex1.key + weight:\n",
        "\t\tvertex2.key=vertex1.key + weight\n",
        "\t\tvertex2.parent=vertex1\n",
        "\t\tprint(\"vertex1 is \",vertex1.name,\"vertex2 is \" , vertex2.name,\"distance of vertex2 is \", vertex2.key)"
      ],
      "execution_count": 0,
      "outputs": []
    },
    {
      "metadata": {
        "id": "R5akwVQsLQZB",
        "colab_type": "code",
        "colab": {}
      },
      "cell_type": "code",
      "source": [
        "import numpy as np\n",
        "s=Vertex('s')\n",
        "t=Vertex('t')\n",
        "x=Vertex('x')\n",
        "y=Vertex('y')\n",
        "z=Vertex('z')\n",
        "T=Graph('T')\n",
        "T.add_edges(10,s,t)\n",
        "T.add_edges(5,s,y)\n",
        "T.add_edges(1,t,x)\n",
        "T.add_edges(2,t,y)\n",
        "T.add_edges(4,x,z)\n",
        "T.add_edges(6,z,x)\n",
        "T.add_edges(7,z,s)\n",
        "T.add_edges(3,y,t)\n",
        "T.add_edges(9,y,x)\n",
        "T.add_edges(2,y,z)"
      ],
      "execution_count": 0,
      "outputs": []
    },
    {
      "metadata": {
        "id": "PAux_DjtL7vV",
        "colab_type": "code",
        "colab": {}
      },
      "cell_type": "code",
      "source": [
        ""
      ],
      "execution_count": 0,
      "outputs": []
    }
  ]
}