{
  "nbformat": 4,
  "nbformat_minor": 0,
  "metadata": {
    "colab": {
      "name": "cutrod.ipynb",
      "version": "0.3.2",
      "provenance": [],
      "collapsed_sections": []
    }
  },
  "cells": [
    {
      "cell_type": "markdown",
      "metadata": {
        "id": "view-in-github",
        "colab_type": "text"
      },
      "source": [
        "[View in Colaboratory](https://colab.research.google.com/github/yogiadi/pyalgo/blob/master/cutrod.ipynb)"
      ]
    },
    {
      "metadata": {
        "id": "KVsljZq5-3zD",
        "colab_type": "code",
        "colab": {}
      },
      "cell_type": "code",
      "source": [
        "import numpy as np\n",
        "def cut_rod(p,n):\n",
        "  print(\"Calling cut rod function on p and n as \",p , \" \", n )\n",
        "  if n==0:\n",
        "      print(\"n is zero so it will return 0\")\n",
        "      return 0\n",
        "  q=-np.inf\n",
        "  print(\"q is \",q)\n",
        "  for i in range(1,n+1):\n",
        "      print(\"value of i is \",i)\n",
        "      q=max(q,p[i]+cut_rod(p,n-i))\n",
        "      print(\"Value of q is as \",q)\n",
        "  return q"
      ],
      "execution_count": 0,
      "outputs": []
    },
    {
      "metadata": {
        "id": "UcxHgQApEJCm",
        "colab_type": "code",
        "colab": {}
      },
      "cell_type": "code",
      "source": [
        "def memoized_cut_rod (p,n):\n",
        "    r=[]\n",
        "    for i in range(0,n+1):\n",
        "        r.append(-math.inf)\n",
        "    print(\"Value of r is \" , r)\n",
        "    return memoized_cut_rod_aux(p,n,r)"
      ],
      "execution_count": 0,
      "outputs": []
    },
    {
      "metadata": {
        "id": "YK7o8pB_EPNl",
        "colab_type": "code",
        "colab": {}
      },
      "cell_type": "code",
      "source": [
        "def memoized_cut_rod_aux(p,n,r):\n",
        "    if r[n]>=0:\n",
        "        print(\"Value of r[n] is \",r[n])\n",
        "        return r[n]\n",
        "    if n==0:\n",
        "        print(\"n is equal to 0\")\n",
        "        return 0\n",
        "    else :\n",
        "        q=-math.inf\n",
        "        for i in range(1,n+1):\n",
        "            print(\"Value of q before comparison \",q)\n",
        "            q=max(q,p[i]+memoized_cut_rod_aux(p,n-i,r))\n",
        "            print(\"Value of q after comparison \",q)\n",
        "        r[n]=q\n",
        "        print(\"Value of r[n] is \",r[n])\n",
        "        return q"
      ],
      "execution_count": 0,
      "outputs": []
    },
    {
      "metadata": {
        "id": "ZjNfJLFKEXXr",
        "colab_type": "code",
        "colab": {}
      },
      "cell_type": "code",
      "source": [
        ""
      ],
      "execution_count": 0,
      "outputs": []
    }
  ]
}