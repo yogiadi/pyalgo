{
 "cells": [
  {
   "cell_type": "markdown",
   "metadata": {
    "colab_type": "text",
    "id": "view-in-github"
   },
   "source": [
    "[View in Colaboratory](https://colab.research.google.com/github/yogiadi/pyalgo/blob/master/kruskal.ipynb)"
   ]
  },
  {
   "cell_type": "code",
   "execution_count": 0,
   "metadata": {
    "colab": {},
    "colab_type": "code",
    "id": "min9695RM1vA"
   },
   "outputs": [],
   "source": [
    "class Vertex:\n",
    "\tdef __init__(self,name):\n",
    "\t\tself.name=name\n",
    "\t\tself.parent=self\n",
    "\t\tself.rank=0"
   ]
  },
  {
   "cell_type": "code",
   "execution_count": 0,
   "metadata": {
    "colab": {},
    "colab_type": "code",
    "id": "hZ3FW_AGNDa7"
   },
   "outputs": [],
   "source": [
    "def union(dsets1,dsets2):\n",
    "\tlink(find_set(dsets1),find_set(dsets2))"
   ]
  },
  {
   "cell_type": "code",
   "execution_count": 0,
   "metadata": {
    "colab": {},
    "colab_type": "code",
    "id": "rKjVgHIJNL1Q"
   },
   "outputs": [],
   "source": [
    "\n",
    "def link(dsets1,dsets2):\n",
    "\tif dsets1.rank > dsets2.rank :\n",
    "\t\tdsets2.parent=dsets1\n",
    "\telse :\n",
    "\t\tdsets1.parent=dsets2\n",
    "\t\tif (dsets1.rank == dsets2.rank):\n",
    "\t\t\tdsets2.rank=dsets2.rank +1"
   ]
  },
  {
   "cell_type": "code",
   "execution_count": 0,
   "metadata": {
    "colab": {},
    "colab_type": "code",
    "id": "l1RP6xQDNQXM"
   },
   "outputs": [],
   "source": [
    "def find_set(dsets):\n",
    "\tif dsets != dsets.parent:\n",
    "\t\tdsets.parent=find_set(dsets.parent)\n",
    "\treturn dsets.parent"
   ]
  },
  {
   "cell_type": "code",
   "execution_count": 0,
   "metadata": {
    "colab": {},
    "colab_type": "code",
    "id": "vjHurDwWNUuA"
   },
   "outputs": [],
   "source": [
    "class Graph:\n",
    "\tdef __init__(self,name):\n",
    "\t\tself.name=name\n",
    "\t\tself.vertices=[]\n",
    "\t\tself.edges=[]\n",
    "\tdef add_vertices(self,vertex):\n",
    "\t\tif vertex not in self.vertices:\n",
    "\t\t\tself.vertices.append(vertex)\n",
    "\tdef add_edges(self,weight,point1,point2):\n",
    "\t\tedge=[weight]+[point1]+[point2]\n",
    "\t\tif edge not in self.edges:\n",
    "\t\t\tself.edges.append(edge)"
   ]
  },
  {
   "cell_type": "code",
   "execution_count": 0,
   "metadata": {
    "colab": {},
    "colab_type": "code",
    "id": "icfgplFyNYBt"
   },
   "outputs": [],
   "source": [
    "def mst_kruskal(supertree,A):\n",
    "\tsorted_edge=sorted(supertree.edges,key=lambda l:l[0])\n",
    "\tfor weight , point1 , point2 in sorted_edge:\n",
    "\t\tprint(\"weight is \",weight , \"point1 is \",point1.name,\"point2 is \",point2.name)\n",
    "\t\tprint(find_set(point1).name)\n",
    "\t\tif find_set(point1) != find_set(point2):\n",
    "\t\t\tprint(\"Add vetices\")\n",
    "\t\t\tA.add_vertices(point1)\n",
    "\t\t\tA.add_vertices(point2)\n",
    "\t\t\tA.add_edges(weight,point1,point2)\n",
    "\t\t\tunion(point1,point2)"
   ]
  },
  {
   "cell_type": "code",
   "execution_count": 0,
   "metadata": {
    "colab": {},
    "colab_type": "code",
    "id": "07eDHe2YNbUq"
   },
   "outputs": [],
   "source": [
    "a=Vertex('a')\n",
    "b=Vertex('b')\n",
    "c=Vertex('c')\n",
    "d=Vertex('d')\n",
    "e=Vertex('e')\n",
    "f=Vertex('f')\n",
    "g=Vertex('g')\n",
    "h=Vertex('h')\n",
    "i=Vertex('i')\n",
    "\n",
    "T=Graph('T')\n",
    "T.add_vertices(a)\n",
    "T.add_vertices(b)\n",
    "T.add_vertices(c)\n",
    "T.add_vertices(d)\n",
    "T.add_vertices(e)\n",
    "T.add_vertices(f)\n",
    "T.add_vertices(g)\n",
    "T.add_vertices(h)\n",
    "T.add_vertices(i)\n",
    "T.add_edges(4,a,b)\n",
    "T.add_edges(8,a,h)\n",
    "T.add_edges(11,b,h)\n",
    "T.add_edges(8,b,c)\n",
    "T.add_edges(2,i,c)\n",
    "T.add_edges(7,h,i)\n",
    "T.add_edges(1,h,g)\n",
    "T.add_edges(6,i,g)\n",
    "T.add_edges(2,g,f)\n",
    "T.add_edges(4,c,f)\n",
    "T.add_edges(7,c,d)\n",
    "T.add_edges(14,d,f)\n",
    "T.add_edges(9,d,e)\n",
    "T.add_edges(10,f,e)"
   ]
  },
  {
   "cell_type": "code",
   "execution_count": 0,
   "metadata": {
    "colab": {},
    "colab_type": "code",
    "id": "QhiENpHuN5X5"
   },
   "outputs": [],
   "source": []
  }
 ],
 "metadata": {
  "anaconda-cloud": {},
  "colab": {
   "collapsed_sections": [],
   "name": "kruskal.ipynb",
   "provenance": [],
   "version": "0.3.2"
  },
  "kernelspec": {
   "display_name": "Python [default]",
   "language": "python",
   "name": "python3"
  },
  "language_info": {
   "codemirror_mode": {
    "name": "ipython",
    "version": 3
   },
   "file_extension": ".py",
   "mimetype": "text/x-python",
   "name": "python",
   "nbconvert_exporter": "python",
   "pygments_lexer": "ipython3",
   "version": "3.5.5"
  }
 },
 "nbformat": 4,
 "nbformat_minor": 1
}
