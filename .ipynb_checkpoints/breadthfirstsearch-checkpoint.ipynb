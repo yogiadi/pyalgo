{
 "cells": [
  {
   "cell_type": "markdown",
   "metadata": {
    "colab_type": "text",
    "id": "view-in-github"
   },
   "source": [
    "[View in Colaboratory](https://colab.research.google.com/github/yogiadi/pyalgo/blob/master/breadthfirstsearch.ipynb)"
   ]
  },
  {
   "cell_type": "code",
   "execution_count": 0,
   "metadata": {
    "colab": {},
    "colab_type": "code",
    "id": "_IY7Xbby6iHu"
   },
   "outputs": [],
   "source": [
    "class Vertex:\n",
    "  def __init__(self,name):\n",
    "    self.name=name\n",
    "    self.neighbours=[]\n",
    "    self.color=\"WHITE\"\n",
    "    self.distance=np.inf\n",
    "    self.parent=None\n",
    "  def add_neighbours(self,vertex):\n",
    "    if vertex not in self.neighbours:\n",
    "      self.neighbours.append(vertex)\n",
    "  def change_color(self,color):\n",
    "    self.color=color\n",
    "  def change_distance(self,distance):\n",
    "    self.distance=distance\n",
    "  def change_parent(self,vertex):\n",
    "    self.parent=parent"
   ]
  },
  {
   "cell_type": "code",
   "execution_count": 0,
   "metadata": {
    "colab": {},
    "colab_type": "code",
    "id": "qmZX6BlH7TZ0"
   },
   "outputs": [],
   "source": [
    "class Graph:\n",
    "  def __init__(self,name):\n",
    "    self.name=name\n",
    "    self.vertices=[]\n",
    "  def add_vertex(self,vertex):\n",
    "    if vertex not in self.vertices:\n",
    "      self.vertices.append(vertex)\n",
    "  def add_edge(self,vertex1,vertex2):\n",
    "    vertex1.add_neighbours(vertex2)\n",
    "    vertex2.add_neighbours(vertex1)"
   ]
  },
  {
   "cell_type": "code",
   "execution_count": 0,
   "metadata": {
    "colab": {},
    "colab_type": "code",
    "id": "QzyIq9887bAB"
   },
   "outputs": [],
   "source": [
    "class Queue:\n",
    "  def __init__(self,name):\n",
    "    self.name=name\n",
    "    self.items=[];\n",
    "  def is_empty(self):\n",
    "    return self.items==[]\n",
    "  def enqueue(self,item):\n",
    "    self.items.insert(0,item)\n",
    "  def dequeue(self):\n",
    "     return self.items.pop()\n",
    "  def size(self):\n",
    "    return len(items)"
   ]
  },
  {
   "cell_type": "code",
   "execution_count": 0,
   "metadata": {
    "colab": {},
    "colab_type": "code",
    "id": "KNGZydio7eyl"
   },
   "outputs": [],
   "source": [
    "import numpy as np\n",
    "r=Vertex('r')\n",
    "s=Vertex('s')\n",
    "t=Vertex('t')\n",
    "u,v,w,x,y=Vertex('u'),Vertex('v'),Vertex('w'),Vertex('x'),Vertex('y')\n",
    "graph=Graph('graph')\n",
    "graph.add_vertex(r)\n",
    "graph.add_vertex(s)\n",
    "graph.add_vertex(t)\n",
    "graph.add_vertex(u)\n",
    "graph.add_vertex(v)\n",
    "graph.add_vertex(w)\n",
    "graph.add_vertex(x)\n",
    "graph.add_vertex(y)\n",
    "graph.add_edge(r,v)\n",
    "graph.add_edge(r,s)\n",
    "graph.add_edge(s,w)\n",
    "graph.add_edge(w,t)\n",
    "graph.add_edge(w,x)\n",
    "graph.add_edge(t,u)\n",
    "graph.add_edge(t,x)\n",
    "graph.add_edge(u,y)\n",
    "graph.add_edge(x,y)\n",
    "graph.add_edge(x,u)"
   ]
  },
  {
   "cell_type": "code",
   "execution_count": 0,
   "metadata": {
    "colab": {},
    "colab_type": "code",
    "id": "7ridumfz7w5O"
   },
   "outputs": [],
   "source": [
    "def bfs(graph,vertex):\n",
    "  vertex.color='GREY'\n",
    "  vertex.distance=0\n",
    "  print(\"Vertex is \", vertex.name)\n",
    "  q=Queue('queue')\n",
    "  q.enqueue(vertex)\n",
    "  for elem in q.items:\n",
    "    print (\"Element in queue is \",elem.name)\n",
    "  while not q.is_empty():\n",
    "    vertex1=q.dequeue()\n",
    "    print(\"Vertex1 is \", vertex1.name)\n",
    "    for elem in q.items:\n",
    "      print (\"Element in queue is \",elem.name)\n",
    "    for i in vertex1.neighbours:\n",
    "      if i.color=='WHITE':\n",
    "        print(\"Vi is \", i.name)\n",
    "        i.color='GREY'\n",
    "        i.change_distance(vertex1.distance+1)\n",
    "        i.parent=vertex1\n",
    "        q.enqueue(i)\n",
    "        for elem in q.items:\n",
    "          print (\"Element in queue is \",elem.name)\n",
    "    vertex1.color='BLACK'"
   ]
  },
  {
   "cell_type": "code",
   "execution_count": 10,
   "metadata": {
    "colab": {
     "base_uri": "https://localhost:8080/",
     "height": 151
    },
    "colab_type": "code",
    "id": "wYmSchEm7_PW",
    "outputId": "009d50f1-c119-4630-a837-c2dba3515ede"
   },
   "outputs": [
    {
     "name": "stdout",
     "output_type": "stream",
     "text": [
      "('i is ', 'r', ' distance is ', inf)\n",
      "('i is ', 's', ' distance is ', inf)\n",
      "('i is ', 't', ' distance is ', inf)\n",
      "('i is ', 'u', ' distance is ', inf)\n",
      "('i is ', 'v', ' distance is ', inf)\n",
      "('i is ', 'w', ' distance is ', inf)\n",
      "('i is ', 'x', ' distance is ', inf)\n",
      "('i is ', 'y', ' distance is ', inf)\n"
     ]
    }
   ],
   "source": [
    "for i in graph.vertices:\n",
    "  print(\"i is \",i.name,\" distance is \" , i.distance)"
   ]
  },
  {
   "cell_type": "code",
   "execution_count": 0,
   "metadata": {
    "colab": {},
    "colab_type": "code",
    "id": "Y5oAnbvB8G3O"
   },
   "outputs": [],
   "source": []
  }
 ],
 "metadata": {
  "colab": {
   "collapsed_sections": [],
   "name": "breadthfirstsearch.ipynb",
   "provenance": [],
   "version": "0.3.2"
  },
  "kernelspec": {
   "display_name": "Python [default]",
   "language": "python",
   "name": "python3"
  },
  "language_info": {
   "codemirror_mode": {
    "name": "ipython",
    "version": 3
   },
   "file_extension": ".py",
   "mimetype": "text/x-python",
   "name": "python",
   "nbconvert_exporter": "python",
   "pygments_lexer": "ipython3",
   "version": "3.5.5"
  }
 },
 "nbformat": 4,
 "nbformat_minor": 1
}
