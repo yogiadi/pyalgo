{
 "cells": [
  {
   "cell_type": "markdown",
   "metadata": {
    "colab_type": "text",
    "id": "view-in-github"
   },
   "source": [
    "[View in Colaboratory](https://colab.research.google.com/github/yogiadi/pyalgo/blob/master/longcommonsubseq.ipynb)"
   ]
  },
  {
   "cell_type": "code",
   "execution_count": 0,
   "metadata": {
    "colab": {},
    "colab_type": "code",
    "id": "c-X6F6kROgLL"
   },
   "outputs": [],
   "source": [
    "def lcs_length(X,Y):\n",
    "  m=len(X)\n",
    "  n=len(Y)\n",
    "  b=[[]]\n",
    "  c=[[]]\n",
    "  b=[[0 for j in range(n+1)] for i in range(m+1)]\n",
    "  c=[[0 for j in range(n+1)] for i in range(m+1)]\n",
    "  for i in range (0,m):\n",
    "    for j in range(0,n):\n",
    "      if X[i] == Y[j]:\n",
    "        c[i+1][j+1]=c[i][j]+1\n",
    "        b[i+1][j+1]=\"diag\"\n",
    "      elif c[i][j+1]>=c[i+1][j]:\n",
    "        c[i+1][j+1]=c[i][j+1]\n",
    "        b[i+1][j+1]=\"up\"\n",
    "      else :\n",
    "        c[i+1][j+1]=c[i+1][j]\n",
    "        b[i+1][j+1]=\"left\"\n",
    "  return c , b"
   ]
  },
  {
   "cell_type": "code",
   "execution_count": 0,
   "metadata": {
    "colab": {},
    "colab_type": "code",
    "id": "Q3pvf0SBOuoN"
   },
   "outputs": [],
   "source": [
    "def print_lcs(b,X,i,j):\n",
    "  print(\"i is \",i,\" and j is \",j)\n",
    "  if i== 0 or j==0:\n",
    "    return\n",
    "  if b[i][j]==\"diag\":\n",
    "    print_lcs(b,X,i-1,j-1)\n",
    "    print(X[i-1])\n",
    "  elif b[i][j]==\"up\":\n",
    "    print_lcs(b,X,i-1,j)\n",
    "  else:\n",
    "    print_lcs(b,X,i,j-1)"
   ]
  },
  {
   "cell_type": "code",
   "execution_count": 0,
   "metadata": {
    "colab": {},
    "colab_type": "code",
    "id": "AS3ucfeFO0M7"
   },
   "outputs": [],
   "source": []
  }
 ],
 "metadata": {
  "anaconda-cloud": {},
  "colab": {
   "collapsed_sections": [],
   "name": "longcommonsubseq.ipynb",
   "provenance": [],
   "version": "0.3.2"
  },
  "kernelspec": {
   "display_name": "Python [default]",
   "language": "python",
   "name": "python3"
  },
  "language_info": {
   "codemirror_mode": {
    "name": "ipython",
    "version": 3
   },
   "file_extension": ".py",
   "mimetype": "text/x-python",
   "name": "python",
   "nbconvert_exporter": "python",
   "pygments_lexer": "ipython3",
   "version": "3.5.5"
  }
 },
 "nbformat": 4,
 "nbformat_minor": 1
}
