{
 "cells": [
  {
   "cell_type": "markdown",
   "metadata": {
    "colab_type": "text",
    "id": "view-in-github"
   },
   "source": [
    "[View in Colaboratory](https://colab.research.google.com/github/yogiadi/pyalgo/blob/master/Heapsort.ipynb)"
   ]
  },
  {
   "cell_type": "code",
   "execution_count": 0,
   "metadata": {
    "colab": {},
    "colab_type": "code",
    "id": "MrsmYd_pdK_r"
   },
   "outputs": [],
   "source": [
    "def max_heapify(A,i,n):\n",
    "  print(\"A is \",A,\" i is \",i,\" n is \",n)\n",
    "  left=2*i +1\n",
    "  print(\"Left is \",left)\n",
    "  right=2*i+2\n",
    "  print(\"Right is \",right)\n",
    "  max=i\n",
    "  if (left<=n-1 and A[left]>A[max]):\n",
    "    print(\"Left \",A[left],\" is greater than max \",A[max])\n",
    "    max=left\n",
    "    if (right<=n-1 and A[right]>A[max]):\n",
    "      print(\"Right \",A[right],\" is greater than max \",A[max])\n",
    "      max=right\n",
    "      if ( max != i):\n",
    "        print(\"Swap \",A[max],\" \",A[i])\n",
    "        A[max],A[i]=A[i],A[max]\n",
    "        print(\"Calling max_heapify again on max \",max)\n",
    "        max_heapify(A,max,n)"
   ]
  },
  {
   "cell_type": "code",
   "execution_count": 0,
   "metadata": {
    "colab": {},
    "colab_type": "code",
    "id": "Eu7mZfHEdclS"
   },
   "outputs": [],
   "source": [
    "def build_max_heap(A):\n",
    "  print(\"Calling build_max_heap\")\n",
    "  n=len(A)\n",
    "  print(\"Length of A is \",n)\n",
    "  i=(n-1)//2\n",
    "  print(\"i is \",i)\n",
    "  while(i>=0):\n",
    "    print(\"In while loop\")\n",
    "    print(\"i is \",i)\n",
    "    print(\"Calling max_heapify \",\"A is \",A,\" i is \",i,\" n is \",n)\n",
    "    max_heapify(A,i,n)\n",
    "    i=i-1"
   ]
  },
  {
   "cell_type": "code",
   "execution_count": 0,
   "metadata": {
    "colab": {},
    "colab_type": "code",
    "id": "uAAG6DKNe2HA"
   },
   "outputs": [],
   "source": [
    "def heapsort(A):\n",
    "  print(\"Build_max_heap\")\n",
    "  build_max_heap(A)\n",
    "  n=len(A)-1\n",
    "  print(\"n is \",n)\n",
    "  while(n>=0):\n",
    "    print(\"Swap A[0] \",A[0],\" A[n] \",A[n],\" with n as \",n)\n",
    "    A[0],A[n]=A[n],A[0]\n",
    "    n=n-1\n",
    "    print(\"max_heapify\")\n",
    "    max_heapify(A,0,n)"
   ]
  },
  {
   "cell_type": "code",
   "execution_count": 8,
   "metadata": {
    "colab": {
     "base_uri": "https://localhost:8080/",
     "height": 669
    },
    "colab_type": "code",
    "id": "x5PaJ8nifEfj",
    "outputId": "f4f191f5-9aca-4d76-9878-a8b85111f60f"
   },
   "outputs": [
    {
     "name": "stdout",
     "output_type": "stream",
     "text": [
      "Build_max_heap\n",
      "Calling build_max_heap\n",
      "('Length of A is ', 4)\n",
      "('i is ', 1)\n",
      "In while loop\n",
      "('i is ', 1)\n",
      "('Calling max_heapify ', 'A is ', [6, 89, 10, 5], ' i is ', 1, ' n is ', 4)\n",
      "('A is ', [6, 89, 10, 5], ' i is ', 1, ' n is ', 4)\n",
      "('Left is ', 3)\n",
      "('Right is ', 4)\n",
      "In while loop\n",
      "('i is ', 0)\n",
      "('Calling max_heapify ', 'A is ', [6, 89, 10, 5], ' i is ', 0, ' n is ', 4)\n",
      "('A is ', [6, 89, 10, 5], ' i is ', 0, ' n is ', 4)\n",
      "('Left is ', 1)\n",
      "('Right is ', 2)\n",
      "('Left ', 89, ' is greater than max ', 6)\n",
      "('n is ', 3)\n",
      "('Swap A[0] ', 6, ' A[n] ', 5, ' with n as ', 3)\n",
      "max_heapify\n",
      "('A is ', [5, 89, 10, 6], ' i is ', 0, ' n is ', 2)\n",
      "('Left is ', 1)\n",
      "('Right is ', 2)\n",
      "('Left ', 89, ' is greater than max ', 5)\n",
      "('Swap A[0] ', 5, ' A[n] ', 10, ' with n as ', 2)\n",
      "max_heapify\n",
      "('A is ', [10, 89, 5, 6], ' i is ', 0, ' n is ', 1)\n",
      "('Left is ', 1)\n",
      "('Right is ', 2)\n",
      "('Swap A[0] ', 10, ' A[n] ', 89, ' with n as ', 1)\n",
      "max_heapify\n",
      "('A is ', [89, 10, 5, 6], ' i is ', 0, ' n is ', 0)\n",
      "('Left is ', 1)\n",
      "('Right is ', 2)\n",
      "('Swap A[0] ', 89, ' A[n] ', 89, ' with n as ', 0)\n",
      "max_heapify\n",
      "('A is ', [89, 10, 5, 6], ' i is ', 0, ' n is ', -1)\n",
      "('Left is ', 1)\n",
      "('Right is ', 2)\n"
     ]
    }
   ],
   "source": [
    "heapsort([6,89,10,5])"
   ]
  },
  {
   "cell_type": "code",
   "execution_count": 0,
   "metadata": {
    "colab": {},
    "colab_type": "code",
    "id": "B9MMzetkf80N"
   },
   "outputs": [],
   "source": []
  }
 ],
 "metadata": {
  "anaconda-cloud": {},
  "colab": {
   "collapsed_sections": [],
   "name": "Heapsort.ipynb",
   "provenance": [],
   "version": "0.3.2"
  },
  "kernelspec": {
   "display_name": "Python [default]",
   "language": "python",
   "name": "python3"
  },
  "language_info": {
   "codemirror_mode": {
    "name": "ipython",
    "version": 3
   },
   "file_extension": ".py",
   "mimetype": "text/x-python",
   "name": "python",
   "nbconvert_exporter": "python",
   "pygments_lexer": "ipython3",
   "version": "3.5.5"
  }
 },
 "nbformat": 4,
 "nbformat_minor": 1
}
