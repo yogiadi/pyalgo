{
 "cells": [
  {
   "cell_type": "markdown",
   "metadata": {
    "colab_type": "text",
    "id": "view-in-github"
   },
   "source": [
    "[View in Colaboratory](https://colab.research.google.com/github/yogiadi/pyalgo/blob/master/disjointsets.ipynb)"
   ]
  },
  {
   "cell_type": "code",
   "execution_count": 0,
   "metadata": {
    "colab": {},
    "colab_type": "code",
    "id": "c54iI90ZI3m2"
   },
   "outputs": [],
   "source": [
    "class  dsets:\n",
    "\t\"\"\"docstring for  \"\"\"\n",
    "\tdef __init__(self,name):\n",
    "\t\tself.parent=self\n",
    "\t\tself.name=name\n",
    "\t\tself.rank=0"
   ]
  },
  {
   "cell_type": "code",
   "execution_count": 0,
   "metadata": {
    "colab": {},
    "colab_type": "code",
    "id": "UVjJYIi_JF7R"
   },
   "outputs": [],
   "source": [
    "def union(dsets1,dsets2):\n",
    "\tlink(find_set(dsets1),find_set(dsets2))"
   ]
  },
  {
   "cell_type": "code",
   "execution_count": 0,
   "metadata": {
    "colab": {},
    "colab_type": "code",
    "id": "O415uuQgJLEc"
   },
   "outputs": [],
   "source": [
    "\n",
    "def link(dsets1,dsets2):\n",
    "\tif dsets1.rank > dsets2.rank :\n",
    "\t\tdsets2.parent=dsets1\n",
    "\telse :\n",
    "\t\tdsets1.parent=dsets2\n",
    "\t\tif (dsets1.rank == dsets2.rank):\n",
    "\t\t\tdsets2.rank=dsets2.rank +1"
   ]
  },
  {
   "cell_type": "code",
   "execution_count": 0,
   "metadata": {
    "colab": {},
    "colab_type": "code",
    "id": "O3jeDfPaJOZj"
   },
   "outputs": [],
   "source": [
    "def find_set(dsets):\n",
    "\tif dsets != dsets.parent:\n",
    "\t\tdsets.parent=find_set(dsets.parent)\n",
    "\treturn dsets.parent"
   ]
  },
  {
   "cell_type": "code",
   "execution_count": 5,
   "metadata": {
    "colab": {
     "base_uri": "https://localhost:8080/",
     "height": 34
    },
    "colab_type": "code",
    "id": "GIjXyPxiJPYs",
    "outputId": "dd995fc9-b5e2-4d32-ca59-d516ef3b8d01"
   },
   "outputs": [
    {
     "data": {
      "text/plain": [
       "0"
      ]
     },
     "execution_count": 5,
     "metadata": {
      "tags": []
     },
     "output_type": "execute_result"
    }
   ],
   "source": [
    "a=dsets('a')\n",
    "b=dsets('b')\n",
    "c=dsets('c')\n",
    "d=dsets('d')\n",
    "a=dsets('a')\n",
    "b=dsets('b')\n",
    "c=dsets('c')\n",
    "d=dsets('d')\n",
    "union(a,b)\n",
    "union(b,c)\n",
    "union(c,d)\n",
    "union(a,c)\n",
    "a.rank\n",
    "b.rank\n",
    "c.rank\n",
    "d.rank"
   ]
  },
  {
   "cell_type": "code",
   "execution_count": 0,
   "metadata": {
    "colab": {},
    "colab_type": "code",
    "id": "PKLtQ1p0JesI"
   },
   "outputs": [],
   "source": []
  }
 ],
 "metadata": {
  "anaconda-cloud": {},
  "colab": {
   "collapsed_sections": [],
   "name": "disjointsets.ipynb",
   "provenance": [],
   "version": "0.3.2"
  },
  "kernelspec": {
   "display_name": "Python [default]",
   "language": "python",
   "name": "python3"
  },
  "language_info": {
   "codemirror_mode": {
    "name": "ipython",
    "version": 3
   },
   "file_extension": ".py",
   "mimetype": "text/x-python",
   "name": "python",
   "nbconvert_exporter": "python",
   "pygments_lexer": "ipython3",
   "version": "3.5.5"
  }
 },
 "nbformat": 4,
 "nbformat_minor": 1
}
