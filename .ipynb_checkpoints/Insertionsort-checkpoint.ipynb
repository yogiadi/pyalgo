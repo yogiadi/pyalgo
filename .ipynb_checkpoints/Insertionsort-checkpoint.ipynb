{
 "cells": [
  {
   "cell_type": "markdown",
   "metadata": {
    "colab_type": "text",
    "id": "view-in-github"
   },
   "source": [
    "[View in Colaboratory](https://colab.research.google.com/github/yogiadi/pyalgo/blob/master/Insertionsort.ipynb)"
   ]
  },
  {
   "cell_type": "code",
   "execution_count": 0,
   "metadata": {
    "colab": {},
    "colab_type": "code",
    "id": "skMll52hj3l6"
   },
   "outputs": [],
   "source": [
    "def insertionsort(A):\n",
    " n=len(A)\n",
    " print(\"Length of \" , A , \" is \" , n)\n",
    " for i in range(1,n):\n",
    "  print(\"i is \",i)\n",
    "  j=i-1\n",
    "  print(\"j is \",j)\n",
    "  temp=A[i]\n",
    "  print(\"temp is \",temp)\n",
    "  while (A[j]>temp and j>=0):\n",
    "   print(\"jth element is \",A[j],\" greater than temp is \",temp)\n",
    "   print(\"A[j+1] \",A[j+1],\" will be assigned with A[i] \",A[j])\n",
    "   A[j+1]=A[j]\n",
    "   print(\"j \",j,\" will be j-1 \",j-1)\n",
    "   j=j-1\n",
    "   print(\"A[j+1] \",A[j+1],\" will be assigned with temp \",temp)\n",
    "   A[j+1]=temp\n",
    " print(A) \n",
    " "
   ]
  },
  {
   "cell_type": "code",
   "execution_count": 5,
   "metadata": {
    "colab": {
     "base_uri": "https://localhost:8080/",
     "height": 903
    },
    "colab_type": "code",
    "id": "G46vTOlxj97e",
    "outputId": "e70bcf9a-15c0-44c8-f38a-2baadbe32a2c"
   },
   "outputs": [
    {
     "name": "stdout",
     "output_type": "stream",
     "text": [
      "('Length of ', [4, 9, 3, 8, 7, 3], ' is ', 6)\n",
      "('i is ', 1)\n",
      "('j is ', 0)\n",
      "('temp is ', 9)\n",
      "('i is ', 2)\n",
      "('j is ', 1)\n",
      "('temp is ', 3)\n",
      "('jth element is ', 9, ' greater than temp is ', 3)\n",
      "('A[j+1] ', 3, ' will be assigned with A[i] ', 9)\n",
      "('j ', 1, ' will be j-1 ', 0)\n",
      "('A[j+1] ', 9, ' will be assigned with temp ', 3)\n",
      "('jth element is ', 4, ' greater than temp is ', 3)\n",
      "('A[j+1] ', 3, ' will be assigned with A[i] ', 4)\n",
      "('j ', 0, ' will be j-1 ', -1)\n",
      "('A[j+1] ', 4, ' will be assigned with temp ', 3)\n",
      "('i is ', 3)\n",
      "('j is ', 2)\n",
      "('temp is ', 8)\n",
      "('jth element is ', 9, ' greater than temp is ', 8)\n",
      "('A[j+1] ', 8, ' will be assigned with A[i] ', 9)\n",
      "('j ', 2, ' will be j-1 ', 1)\n",
      "('A[j+1] ', 9, ' will be assigned with temp ', 8)\n",
      "('i is ', 4)\n",
      "('j is ', 3)\n",
      "('temp is ', 7)\n",
      "('jth element is ', 9, ' greater than temp is ', 7)\n",
      "('A[j+1] ', 7, ' will be assigned with A[i] ', 9)\n",
      "('j ', 3, ' will be j-1 ', 2)\n",
      "('A[j+1] ', 9, ' will be assigned with temp ', 7)\n",
      "('jth element is ', 8, ' greater than temp is ', 7)\n",
      "('A[j+1] ', 7, ' will be assigned with A[i] ', 8)\n",
      "('j ', 2, ' will be j-1 ', 1)\n",
      "('A[j+1] ', 8, ' will be assigned with temp ', 7)\n",
      "('i is ', 5)\n",
      "('j is ', 4)\n",
      "('temp is ', 3)\n",
      "('jth element is ', 9, ' greater than temp is ', 3)\n",
      "('A[j+1] ', 3, ' will be assigned with A[i] ', 9)\n",
      "('j ', 4, ' will be j-1 ', 3)\n",
      "('A[j+1] ', 9, ' will be assigned with temp ', 3)\n",
      "('jth element is ', 8, ' greater than temp is ', 3)\n",
      "('A[j+1] ', 3, ' will be assigned with A[i] ', 8)\n",
      "('j ', 3, ' will be j-1 ', 2)\n",
      "('A[j+1] ', 8, ' will be assigned with temp ', 3)\n",
      "('jth element is ', 7, ' greater than temp is ', 3)\n",
      "('A[j+1] ', 3, ' will be assigned with A[i] ', 7)\n",
      "('j ', 2, ' will be j-1 ', 1)\n",
      "('A[j+1] ', 7, ' will be assigned with temp ', 3)\n",
      "('jth element is ', 4, ' greater than temp is ', 3)\n",
      "('A[j+1] ', 3, ' will be assigned with A[i] ', 4)\n",
      "('j ', 1, ' will be j-1 ', 0)\n",
      "('A[j+1] ', 4, ' will be assigned with temp ', 3)\n",
      "[3, 3, 4, 7, 8, 9]\n"
     ]
    }
   ],
   "source": [
    "insertionsort([4,9,3,8,7,3])"
   ]
  },
  {
   "cell_type": "code",
   "execution_count": 0,
   "metadata": {
    "colab": {},
    "colab_type": "code",
    "id": "s49pX5S2kJm6"
   },
   "outputs": [],
   "source": []
  }
 ],
 "metadata": {
  "anaconda-cloud": {},
  "colab": {
   "collapsed_sections": [],
   "name": "Insertionsort.ipynb",
   "provenance": [],
   "version": "0.3.2"
  },
  "kernelspec": {
   "display_name": "Python [default]",
   "language": "python",
   "name": "python3"
  },
  "language_info": {
   "codemirror_mode": {
    "name": "ipython",
    "version": 3
   },
   "file_extension": ".py",
   "mimetype": "text/x-python",
   "name": "python",
   "nbconvert_exporter": "python",
   "pygments_lexer": "ipython3",
   "version": "3.5.5"
  }
 },
 "nbformat": 4,
 "nbformat_minor": 1
}
