{
 "cells": [
  {
   "cell_type": "markdown",
   "metadata": {
    "colab_type": "text",
    "id": "view-in-github"
   },
   "source": [
    "[View in Colaboratory](https://colab.research.google.com/github/yogiadi/pyalgo/blob/master/huffman.ipynb)"
   ]
  },
  {
   "cell_type": "code",
   "execution_count": 0,
   "metadata": {
    "colab": {},
    "colab_type": "code",
    "id": "-qzgNgWxx1nn"
   },
   "outputs": [],
   "source": [
    "def build_min_heap(arr):\n",
    "  print(\"Calling build_min_heap\")\n",
    "  len_arr=len(arr)\n",
    "  print(\"Length of Array is \",len_arr)\n",
    "  index=(len_arr-1)//2\n",
    "  print(\"Index is \",index)\n",
    "  while(index>=0):\n",
    "    print(\"In while loop\")\n",
    "    print(\"Index is \",index)\n",
    "    min_heapify(arr,index,len_arr)\n",
    "    index=index-1"
   ]
  },
  {
   "cell_type": "code",
   "execution_count": 0,
   "metadata": {
    "colab": {},
    "colab_type": "code",
    "id": "QPx2UiDcx5q8"
   },
   "outputs": [],
   "source": [
    "def min_heapify(arr,index,len_arr):\n",
    "  left_node=2*index +1\n",
    "  print(\"Left node is \",left_node)\n",
    "  right_node=2*index+2\n",
    "  print(\"Right is \",right_node)\n",
    "  min=index\n",
    "  if (left_node<=len_arr-1 and arr[left_node]< arr[min]):\n",
    "    print(\"Left node \",arr[left_node],\" is greater than min \",arr[min])\n",
    "    min=left_node\n",
    "  if (right_node<=len_arr-1 and arr[right_node]< arr[min]):\n",
    "    print(\"Right \",arr[right_node],\" is greater than min \",arr[min])\n",
    "    min=right_node\n",
    "  if ( min != index):\n",
    "    print(\"Swap \",arr[min],\" \",arr[index])\n",
    "    arr[min],arr[index]=arr[index],arr[min]\n",
    "    print(\"Calling min_heapify again on min \",min)\n",
    "    min_heapify(arr,min,len_arr)"
   ]
  },
  {
   "cell_type": "code",
   "execution_count": 0,
   "metadata": {
    "colab": {},
    "colab_type": "code",
    "id": "4QWKqgWNyGC3"
   },
   "outputs": [],
   "source": [
    "def heap_minimum(arr):\n",
    "  return arr[0]"
   ]
  },
  {
   "cell_type": "code",
   "execution_count": 0,
   "metadata": {
    "colab": {},
    "colab_type": "code",
    "id": "wLM_ETtryPY5"
   },
   "outputs": [],
   "source": [
    "def heap_extract_min(arr):\n",
    "  min=arr[0]\n",
    "  len_arr=len(arr)\n",
    "  arr[0]=arr[len_arr-1]\n",
    "  del arr[len_arr-1:]\n",
    "  min_heapify(arr,0,len_arr-1)\n",
    "  return min"
   ]
  },
  {
   "cell_type": "code",
   "execution_count": 0,
   "metadata": {
    "colab": {},
    "colab_type": "code",
    "id": "l52BH0NLyRpx"
   },
   "outputs": [],
   "source": [
    "def min_heap_insert(arr,key):\n",
    "  arr.append(key)\n",
    "  print(\"Array is \",arr)\n",
    "  len_arr=len(arr)-1\n",
    "  print(\"Array of length is \", len_arr)\n",
    "  heap_increase_key(arr,len_arr)"
   ]
  },
  {
   "cell_type": "code",
   "execution_count": 0,
   "metadata": {
    "colab": {},
    "colab_type": "code",
    "id": "niuDQ5KByT17"
   },
   "outputs": [],
   "source": [
    "def heap_increase_key(arr,index):\n",
    "  while index > 0 and arr[index//2]>arr[index]:\n",
    "    arr[index],arr[index//2]=arr[index//2],arr[index]\n",
    "    index=index//2"
   ]
  },
  {
   "cell_type": "code",
   "execution_count": 0,
   "metadata": {
    "colab": {},
    "colab_type": "code",
    "id": "oNNkcZAZyWvZ"
   },
   "outputs": [],
   "source": [
    "def encode(arr):\n",
    "    heap = [[weight, [symbol, '']] for weight, symbol in arr]\n",
    "    while len(heap) > 1:\n",
    "        lo = heap_extract_min(heap)\n",
    "        hi = heap_extract_min(heap)\n",
    "        for pair in lo[1:]:\n",
    "            pair[1] = '0' + pair[1]\n",
    "        for pair in hi[1:]:\n",
    "            pair[1] = '1' + pair[1]\n",
    "        min_heap_insert(heap, [lo[0] + hi[0]] + lo[1:] + hi[1:])"
   ]
  },
  {
   "cell_type": "code",
   "execution_count": 0,
   "metadata": {
    "colab": {},
    "colab_type": "code",
    "id": "A1rbIhBTyZLE"
   },
   "outputs": [],
   "source": []
  }
 ],
 "metadata": {
  "anaconda-cloud": {},
  "colab": {
   "collapsed_sections": [],
   "name": "huffman.ipynb",
   "provenance": [],
   "version": "0.3.2"
  },
  "kernelspec": {
   "display_name": "Python [default]",
   "language": "python",
   "name": "python3"
  },
  "language_info": {
   "codemirror_mode": {
    "name": "ipython",
    "version": 3
   },
   "file_extension": ".py",
   "mimetype": "text/x-python",
   "name": "python",
   "nbconvert_exporter": "python",
   "pygments_lexer": "ipython3",
   "version": "3.5.5"
  }
 },
 "nbformat": 4,
 "nbformat_minor": 1
}
