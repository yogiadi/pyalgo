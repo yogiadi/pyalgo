{
 "cells": [
  {
   "cell_type": "markdown",
   "metadata": {
    "colab_type": "text",
    "id": "view-in-github"
   },
   "source": [
    "[View in Colaboratory](https://colab.research.google.com/github/yogiadi/pyalgo/blob/master/cutrod.ipynb)"
   ]
  },
  {
   "cell_type": "code",
   "execution_count": 0,
   "metadata": {
    "colab": {},
    "colab_type": "code",
    "id": "KVsljZq5-3zD"
   },
   "outputs": [],
   "source": [
    "import numpy as np\n",
    "def cut_rod(p,n):\n",
    "  print(\"Calling cut rod function on p and n as \",p , \" \", n )\n",
    "  if n==0:\n",
    "      print(\"n is zero so it will return 0\")\n",
    "      return 0\n",
    "  q=-np.inf\n",
    "  print(\"q is \",q)\n",
    "  for i in range(1,n+1):\n",
    "      print(\"value of i is \",i)\n",
    "      q=max(q,p[i]+cut_rod(p,n-i))\n",
    "      print(\"Value of q is as \",q)\n",
    "  return q"
   ]
  },
  {
   "cell_type": "code",
   "execution_count": 0,
   "metadata": {
    "colab": {},
    "colab_type": "code",
    "id": "UcxHgQApEJCm"
   },
   "outputs": [],
   "source": [
    "def memoized_cut_rod (p,n):\n",
    "    r=[]\n",
    "    for i in range(0,n+1):\n",
    "        r.append(-math.inf)\n",
    "    print(\"Value of r is \" , r)\n",
    "    return memoized_cut_rod_aux(p,n,r)"
   ]
  },
  {
   "cell_type": "code",
   "execution_count": 0,
   "metadata": {
    "colab": {},
    "colab_type": "code",
    "id": "YK7o8pB_EPNl"
   },
   "outputs": [],
   "source": [
    "def memoized_cut_rod_aux(p,n,r):\n",
    "    if r[n]>=0:\n",
    "        print(\"Value of r[n] is \",r[n])\n",
    "        return r[n]\n",
    "    if n==0:\n",
    "        print(\"n is equal to 0\")\n",
    "        return 0\n",
    "    else :\n",
    "        q=-math.inf\n",
    "        for i in range(1,n+1):\n",
    "            print(\"Value of q before comparison \",q)\n",
    "            q=max(q,p[i]+memoized_cut_rod_aux(p,n-i,r))\n",
    "            print(\"Value of q after comparison \",q)\n",
    "        r[n]=q\n",
    "        print(\"Value of r[n] is \",r[n])\n",
    "        return q"
   ]
  },
  {
   "cell_type": "code",
   "execution_count": 0,
   "metadata": {
    "colab": {},
    "colab_type": "code",
    "id": "ZjNfJLFKEXXr"
   },
   "outputs": [],
   "source": []
  }
 ],
 "metadata": {
  "anaconda-cloud": {},
  "colab": {
   "collapsed_sections": [],
   "name": "cutrod.ipynb",
   "provenance": [],
   "version": "0.3.2"
  },
  "kernelspec": {
   "display_name": "Python [default]",
   "language": "python",
   "name": "python3"
  },
  "language_info": {
   "codemirror_mode": {
    "name": "ipython",
    "version": 3
   },
   "file_extension": ".py",
   "mimetype": "text/x-python",
   "name": "python",
   "nbconvert_exporter": "python",
   "pygments_lexer": "ipython3",
   "version": "3.5.5"
  }
 },
 "nbformat": 4,
 "nbformat_minor": 1
}
