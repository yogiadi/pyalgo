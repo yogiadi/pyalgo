{
 "cells": [
  {
   "cell_type": "markdown",
   "metadata": {
    "colab_type": "text",
    "id": "view-in-github"
   },
   "source": [
    "[View in Colaboratory](https://colab.research.google.com/github/yogiadi/pyalgo/blob/master/depthfirstsearch.ipynb)"
   ]
  },
  {
   "cell_type": "code",
   "execution_count": 0,
   "metadata": {
    "colab": {},
    "colab_type": "code",
    "id": "7J9dNn72HDbb"
   },
   "outputs": [],
   "source": [
    "class Vertex:\n",
    "\tdef __init__(self,name):\n",
    "\t\tself.name=name\n",
    "\t\tself.neighbours=[]\n",
    "\t\tself.color=\"WHITE\"\n",
    "\t\tself.dis=np.inf\n",
    "\t\tself.fin=np.inf\n",
    "\t\tself.parent=None"
   ]
  },
  {
   "cell_type": "code",
   "execution_count": 0,
   "metadata": {
    "colab": {},
    "colab_type": "code",
    "id": "D8IwJL1nHJGc"
   },
   "outputs": [],
   "source": [
    "class Graph:\n",
    "\tdef __init__(self,name):\n",
    "\t\tself.name=name\n",
    "\t\tself.vertices=[]\n",
    "\tdef add_vertex(self,vertex):\n",
    "\t\tif vertex not in self.vertices:\n",
    "\t\t\tself.vertices.append(vertex)\n",
    "\tdef add_edge(self,vertex1,vertex2):\n",
    "\t\tvertex1.neighbours.append(vertex2)\n",
    "\t\tvertex2.neighbours.append(vertex1)"
   ]
  },
  {
   "cell_type": "code",
   "execution_count": 0,
   "metadata": {
    "colab": {},
    "colab_type": "code",
    "id": "LzBIQ8ufHR10"
   },
   "outputs": [],
   "source": [
    "def dfs(graph):\n",
    "\tfor i in graph.vertices:\n",
    "\t\ti.color=\"WHITE\"\n",
    "\t\ti.parent=None\n",
    "\t\tprint(\"i is \",i.name,\" i.color is \" , i.color)\n",
    "\tgraph.time=0\n",
    "\tfor i in graph.vertices:\n",
    "\t\tif i.color==\"WHITE\":\n",
    "\t\t\tprint(\"i is \",i.name,\" i.color is \" , i.color,\" time is \",graph.time)\n",
    "\t\t\tdfs_visit(graph,i)"
   ]
  },
  {
   "cell_type": "code",
   "execution_count": 0,
   "metadata": {
    "colab": {},
    "colab_type": "code",
    "id": "3dnN7kciHWag"
   },
   "outputs": [],
   "source": [
    "def dfs_visit(graph,i):\n",
    "\tgraph.time=graph.time+1\n",
    "\tprint(\"i is \",i.name,\" i.color is \" , i.color,\" time is \",graph.time)\n",
    "\ti.dis=graph.time\n",
    "\ti.color=\"GREY\"\n",
    "\tprint(\"i is \",i.name,\" i.color is \" , i.color,\" time is \",graph.time, \"discovery time is \",i.dis)\n",
    "\tfor j in i.neighbours:\n",
    "\t\tif j.color==\"WHITE\":\n",
    "\t\t\tprint(\"i is \",i.name,\" i.color is \" , i.color,\" time is \",graph.time, \"discovery time is \",i.dis)\n",
    "\t\t\tprint(\"j is \",j.name,\" j.color is \" , j.color,\" time is \",graph.time, \"discovery time is \",j.dis)\n",
    "\t\t\tj.parent=i\n",
    "\t\t\tdfs_visit(graph,j)\n",
    "\ti.color=\"BLACK\"\n",
    "\tprint(\"i is \",i.name,\" i.color is \" , i.color,\" time is \",graph.time, \"discovery time is \",i.dis)\n",
    "\tgraph.time=graph.time+1\n",
    "\ti.fin=graph.time\n",
    "\tprint(\"i is \",i.name,\" i.color is \" , i.color,\" time is \",graph.time, \"discovery time is \",i.dis,\" finish time is \",i.fin)"
   ]
  },
  {
   "cell_type": "code",
   "execution_count": 0,
   "metadata": {
    "colab": {},
    "colab_type": "code",
    "id": "z_nhNpgCHaqf"
   },
   "outputs": [],
   "source": [
    "import numpy as np\n",
    "u,v,w,x,y,z=Vertex('u'),Vertex('v'),Vertex('w'),Vertex('x'),Vertex('y'),Vertex('z')\n",
    "graph=Graph('graph')\n",
    "graph.add_vertex(u)\n",
    "graph.add_vertex(v)\n",
    "graph.add_vertex(w)\n",
    "graph.add_vertex(x)\n",
    "graph.add_vertex(y)\n",
    "graph.add_vertex(z)\n",
    "graph.add_edge(u,v)\n",
    "graph.add_edge(u,x)\n",
    "graph.add_edge(x,v)\n",
    "graph.add_edge(x,y)\n",
    "graph.add_edge(v,y)\n",
    "graph.add_edge(w,y)\n",
    "graph.add_edge(w,z)\n",
    "graph.add_edge(z,z)"
   ]
  },
  {
   "cell_type": "code",
   "execution_count": 0,
   "metadata": {
    "colab": {},
    "colab_type": "code",
    "id": "bJ_vyhyNHsEU"
   },
   "outputs": [],
   "source": [
    "class DirGraph:\n",
    "\tdef __init__(self,name):\n",
    "\t\tself.name=name\n",
    "\t\tself.vertices=[]\n",
    "\t\tself.time=0\n",
    "\tdef add_vertex(self,vertex):\n",
    "\t\tif vertex not in self.vertices:\n",
    "\t\t\tself.vertices.append(vertex)\n",
    "\tdef add_edge(self,vertex1,vertex2):\n",
    "\t\tvertex1.neighbours.append(vertex2)"
   ]
  },
  {
   "cell_type": "code",
   "execution_count": 0,
   "metadata": {
    "colab": {},
    "colab_type": "code",
    "id": "qo6qsf1gHzCv"
   },
   "outputs": [],
   "source": [
    "import numpy as np\n",
    "u,v,w,x,y,z=Vertex('u'),Vertex('v'),Vertex('w'),Vertex('x'),Vertex('y'),Vertex('z')\n",
    "graph=Graph('graph')\n",
    "graph.add_vertex(u)\n",
    "graph.add_vertex(v)\n",
    "graph.add_vertex(w)\n",
    "graph.add_vertex(x)\n",
    "graph.add_vertex(y)\n",
    "graph.add_vertex(z)\n",
    "graph.add_edge(u,v)\n",
    "graph.add_edge(u,x)\n",
    "graph.add_edge(x,v)\n",
    "graph.add_edge(x,y)\n",
    "graph.add_edge(v,y)\n",
    "graph.add_edge(w,y)\n",
    "graph.add_edge(w,z)\n",
    "graph.add_edge(z,z)"
   ]
  },
  {
   "cell_type": "code",
   "execution_count": 12,
   "metadata": {
    "colab": {
     "base_uri": "https://localhost:8080/",
     "height": 807
    },
    "colab_type": "code",
    "id": "P5WYMBjgIMp6",
    "outputId": "018bf967-65ff-4cc1-9384-5279b730f574"
   },
   "outputs": [
    {
     "name": "stdout",
     "output_type": "stream",
     "text": [
      "('i is ', 'u', ' i.color is ', 'WHITE')\n",
      "('i is ', 'v', ' i.color is ', 'WHITE')\n",
      "('i is ', 'w', ' i.color is ', 'WHITE')\n",
      "('i is ', 'x', ' i.color is ', 'WHITE')\n",
      "('i is ', 'y', ' i.color is ', 'WHITE')\n",
      "('i is ', 'z', ' i.color is ', 'WHITE')\n",
      "('i is ', 'u', ' i.color is ', 'WHITE', ' time is ', 0)\n",
      "('i is ', 'u', ' i.color is ', 'WHITE', ' time is ', 1)\n",
      "('i is ', 'u', ' i.color is ', 'GREY', ' time is ', 1, 'discovery time is ', 1)\n",
      "('i is ', 'u', ' i.color is ', 'GREY', ' time is ', 1, 'discovery time is ', 1)\n",
      "('j is ', 'v', ' j.color is ', 'WHITE', ' time is ', 1, 'discovery time is ', inf)\n",
      "('i is ', 'v', ' i.color is ', 'WHITE', ' time is ', 2)\n",
      "('i is ', 'v', ' i.color is ', 'GREY', ' time is ', 2, 'discovery time is ', 2)\n",
      "('i is ', 'v', ' i.color is ', 'GREY', ' time is ', 2, 'discovery time is ', 2)\n",
      "('j is ', 'x', ' j.color is ', 'WHITE', ' time is ', 2, 'discovery time is ', inf)\n",
      "('i is ', 'x', ' i.color is ', 'WHITE', ' time is ', 3)\n",
      "('i is ', 'x', ' i.color is ', 'GREY', ' time is ', 3, 'discovery time is ', 3)\n",
      "('i is ', 'x', ' i.color is ', 'GREY', ' time is ', 3, 'discovery time is ', 3)\n",
      "('j is ', 'y', ' j.color is ', 'WHITE', ' time is ', 3, 'discovery time is ', inf)\n",
      "('i is ', 'y', ' i.color is ', 'WHITE', ' time is ', 4)\n",
      "('i is ', 'y', ' i.color is ', 'GREY', ' time is ', 4, 'discovery time is ', 4)\n",
      "('i is ', 'y', ' i.color is ', 'GREY', ' time is ', 4, 'discovery time is ', 4)\n",
      "('j is ', 'w', ' j.color is ', 'WHITE', ' time is ', 4, 'discovery time is ', inf)\n",
      "('i is ', 'w', ' i.color is ', 'WHITE', ' time is ', 5)\n",
      "('i is ', 'w', ' i.color is ', 'GREY', ' time is ', 5, 'discovery time is ', 5)\n",
      "('i is ', 'w', ' i.color is ', 'GREY', ' time is ', 5, 'discovery time is ', 5)\n",
      "('j is ', 'z', ' j.color is ', 'WHITE', ' time is ', 5, 'discovery time is ', inf)\n",
      "('i is ', 'z', ' i.color is ', 'WHITE', ' time is ', 6)\n",
      "('i is ', 'z', ' i.color is ', 'GREY', ' time is ', 6, 'discovery time is ', 6)\n",
      "('i is ', 'z', ' i.color is ', 'BLACK', ' time is ', 6, 'discovery time is ', 6)\n",
      "('i is ', 'z', ' i.color is ', 'BLACK', ' time is ', 7, 'discovery time is ', 6, ' finish time is ', 7)\n",
      "('i is ', 'w', ' i.color is ', 'BLACK', ' time is ', 7, 'discovery time is ', 5)\n",
      "('i is ', 'w', ' i.color is ', 'BLACK', ' time is ', 8, 'discovery time is ', 5, ' finish time is ', 8)\n",
      "('i is ', 'y', ' i.color is ', 'BLACK', ' time is ', 8, 'discovery time is ', 4)\n",
      "('i is ', 'y', ' i.color is ', 'BLACK', ' time is ', 9, 'discovery time is ', 4, ' finish time is ', 9)\n",
      "('i is ', 'x', ' i.color is ', 'BLACK', ' time is ', 9, 'discovery time is ', 3)\n",
      "('i is ', 'x', ' i.color is ', 'BLACK', ' time is ', 10, 'discovery time is ', 3, ' finish time is ', 10)\n",
      "('i is ', 'v', ' i.color is ', 'BLACK', ' time is ', 10, 'discovery time is ', 2)\n",
      "('i is ', 'v', ' i.color is ', 'BLACK', ' time is ', 11, 'discovery time is ', 2, ' finish time is ', 11)\n",
      "('i is ', 'u', ' i.color is ', 'BLACK', ' time is ', 11, 'discovery time is ', 1)\n",
      "('i is ', 'u', ' i.color is ', 'BLACK', ' time is ', 12, 'discovery time is ', 1, ' finish time is ', 12)\n",
      "('i is ', 'u', ' color is ', 'BLACK', 'discovery time is ', 1, ' finish time is ', 12)\n",
      "('i is ', 'v', ' color is ', 'BLACK', 'discovery time is ', 2, ' finish time is ', 11)\n",
      "('i is ', 'w', ' color is ', 'BLACK', 'discovery time is ', 5, ' finish time is ', 8)\n",
      "('i is ', 'x', ' color is ', 'BLACK', 'discovery time is ', 3, ' finish time is ', 10)\n",
      "('i is ', 'y', ' color is ', 'BLACK', 'discovery time is ', 4, ' finish time is ', 9)\n",
      "('i is ', 'z', ' color is ', 'BLACK', 'discovery time is ', 6, ' finish time is ', 7)\n"
     ]
    }
   ],
   "source": [
    "dfs(graph)\n",
    "\n",
    "for i in graph.vertices:\n",
    "\tprint (\"i is \",i.name , \" color is \",i.color,\"discovery time is \", i.dis , \" finish time is \",i.fin)"
   ]
  },
  {
   "cell_type": "code",
   "execution_count": 0,
   "metadata": {
    "colab": {},
    "colab_type": "code",
    "id": "pGvTFZz3IRGQ"
   },
   "outputs": [],
   "source": []
  }
 ],
 "metadata": {
  "anaconda-cloud": {},
  "colab": {
   "collapsed_sections": [],
   "name": "depthfirstsearch.ipynb",
   "provenance": [],
   "version": "0.3.2"
  },
  "kernelspec": {
   "display_name": "Python [default]",
   "language": "python",
   "name": "python3"
  },
  "language_info": {
   "codemirror_mode": {
    "name": "ipython",
    "version": 3
   },
   "file_extension": ".py",
   "mimetype": "text/x-python",
   "name": "python",
   "nbconvert_exporter": "python",
   "pygments_lexer": "ipython3",
   "version": "3.5.5"
  }
 },
 "nbformat": 4,
 "nbformat_minor": 1
}
