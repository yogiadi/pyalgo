{
 "cells": [
  {
   "cell_type": "markdown",
   "metadata": {
    "colab_type": "text",
    "id": "view-in-github"
   },
   "source": [
    "[View in Colaboratory](https://colab.research.google.com/github/yogiadi/pyalgo/blob/master/djisktra.ipynb)"
   ]
  },
  {
   "cell_type": "code",
   "execution_count": 0,
   "metadata": {
    "colab": {},
    "colab_type": "code",
    "id": "hIwu4LtvJ3y0"
   },
   "outputs": [],
   "source": [
    "class Vertex:\n",
    "\tdef __init__(self,name):\n",
    "\t\tself.name=name\n",
    "\t\tself.key=np.inf\n",
    "\t\tself.parent=None\n",
    "\t\tself.neighbours={}"
   ]
  },
  {
   "cell_type": "code",
   "execution_count": 0,
   "metadata": {
    "colab": {},
    "colab_type": "code",
    "id": "n-QcR2F_KLNq"
   },
   "outputs": [],
   "source": [
    "class Graph:\n",
    "\tdef __init__(self,name):\n",
    "\t\tself.name=name\n",
    "\t\tself.vertices=[]\n",
    "\t\tself.edges=[]\n",
    "\tdef add_edges(self,weight,vertex1,vertex2):\n",
    "\t\tif vertex1 not in self.vertices:\n",
    "\t\t\tself.vertices.append(vertex1)\n",
    "\t\tif vertex2 not in self.vertices:\n",
    "\t\t\tself.vertices.append(vertex2)\n",
    "\t\tself.edges.append([weight]+[vertex1]+[vertex2])\n",
    "\t\tlist=[weight]+[vertex1]+[vertex2]\n",
    "\t\tif list not in self.edges:\n",
    "\t\t\tself.edges.append(list)\n",
    "\t\tvertex1.neighbours[vertex2]=weight"
   ]
  },
  {
   "cell_type": "code",
   "execution_count": 0,
   "metadata": {
    "colab": {},
    "colab_type": "code",
    "id": "0OIQOlSuKSAq"
   },
   "outputs": [],
   "source": [
    "def build_min_heap(arr):\n",
    "  print(\"Calling build_min_heap\")\n",
    "  len_arr=len(arr)\n",
    "  print(\"Length of Array is \",len_arr)\n",
    "  index=(len_arr-1)//2\n",
    "  print(\"Index is \",index)\n",
    "  while(index>=0):\n",
    "    print(\"In while loop\")\n",
    "    print(\"Index is \",index)\n",
    "    min_heapify(arr,index,len_arr)\n",
    "    index=index-1"
   ]
  },
  {
   "cell_type": "code",
   "execution_count": 0,
   "metadata": {
    "colab": {},
    "colab_type": "code",
    "id": "vQNAnrfCKa_O"
   },
   "outputs": [],
   "source": [
    "def min_heapify(arr,index,len_arr):\n",
    "  left_node=2*index +1\n",
    "  print(\"Left node is \",left_node)\n",
    "  right_node=2*index+2\n",
    "  print(\"Right is \",right_node)\n",
    "  min=index\n",
    "  if (left_node<=len_arr-1 and arr[left_node].key< arr[min].key):\n",
    "    print(\"Left node \",arr[left_node].name,\" is greater than min \",arr[min].name)\n",
    "    min=left_node\n",
    "  if (right_node<=len_arr-1 and arr[right_node].key< arr[min].key):\n",
    "    print(\"Right \",arr[right_node].name,\" is greater than min \",arr[min].name)\n",
    "    min=right_node\n",
    "  if ( min != index):\n",
    "    print(\"Swap \",arr[min].name,\" \",arr[index].name)\n",
    "    arr[min],arr[index]=arr[index],arr[min]\n",
    "    print(\"Calling min_heapify again on min \",min)\n",
    "    min_heapify(arr,min,len_arr)"
   ]
  },
  {
   "cell_type": "code",
   "execution_count": 0,
   "metadata": {
    "colab": {},
    "colab_type": "code",
    "id": "RIAfy5cCKznL"
   },
   "outputs": [],
   "source": [
    "def heap_minimum(arr):\n",
    "  return arr[0]"
   ]
  },
  {
   "cell_type": "code",
   "execution_count": 0,
   "metadata": {
    "colab": {},
    "colab_type": "code",
    "id": "q9hmVdXRK40E"
   },
   "outputs": [],
   "source": [
    "def heap_extract_min(arr):\n",
    "  min=arr[0]\n",
    "  len_arr=len(arr)\n",
    "  arr[0]=arr[len_arr-1]\n",
    "  del arr[len_arr-1:]\n",
    "  min_heapify(arr,0,len_arr-1)\n",
    "  return min"
   ]
  },
  {
   "cell_type": "code",
   "execution_count": 0,
   "metadata": {
    "colab": {},
    "colab_type": "code",
    "id": "Sl-YcfiyK7Gg"
   },
   "outputs": [],
   "source": [
    "def min_heap_insert(arr,element):\n",
    "  arr.append(element)\n",
    "  print(\"Array is \",arr)\n",
    "  len_arr=len(arr)-1\n",
    "  print(\"Array of length is \", len_arr)\n",
    "  heap_increase_key(arr,len_arr)"
   ]
  },
  {
   "cell_type": "code",
   "execution_count": 0,
   "metadata": {
    "colab": {},
    "colab_type": "code",
    "id": "28H_DL-HK_Zg"
   },
   "outputs": [],
   "source": [
    "\n",
    "def heap_increase_key(arr,index):\n",
    "  while index > 0 and arr[index//2].key>arr[index].key:\n",
    "    arr[index],arr[index//2]=arr[index//2],arr[index]\n",
    "    index=index//2"
   ]
  },
  {
   "cell_type": "code",
   "execution_count": 0,
   "metadata": {
    "colab": {},
    "colab_type": "code",
    "id": "l2Owz2oGLFYm"
   },
   "outputs": [],
   "source": [
    "def dijkstra(graph,vertex,queue):\n",
    " \twhile queue != []:\n",
    " \t\tmin_vert=heap_extract_min(queue)\n",
    " \t\tfor vert_itr in min_vert.neighbours.keys():\n",
    " \t\t\tif vert_itr in queue:\n",
    " \t\t\t\trelax(min_vert.neighbours[vert_itr],min_vert,vert_itr)\n",
    " \t\t\t\theap_increase_key(queue,queue.index(vert_itr))"
   ]
  },
  {
   "cell_type": "code",
   "execution_count": 0,
   "metadata": {
    "colab": {},
    "colab_type": "code",
    "id": "56PQkSbHLJq1"
   },
   "outputs": [],
   "source": [
    "def relax(weight,vertex1,vertex2):\n",
    "\tif vertex2.key > vertex1.key + weight:\n",
    "\t\tvertex2.key=vertex1.key + weight\n",
    "\t\tvertex2.parent=vertex1\n",
    "\t\tprint(\"vertex1 is \",vertex1.name,\"vertex2 is \" , vertex2.name,\"distance of vertex2 is \", vertex2.key)"
   ]
  },
  {
   "cell_type": "code",
   "execution_count": 0,
   "metadata": {
    "colab": {},
    "colab_type": "code",
    "id": "R5akwVQsLQZB"
   },
   "outputs": [],
   "source": [
    "import numpy as np\n",
    "s=Vertex('s')\n",
    "t=Vertex('t')\n",
    "x=Vertex('x')\n",
    "y=Vertex('y')\n",
    "z=Vertex('z')\n",
    "T=Graph('T')\n",
    "T.add_edges(10,s,t)\n",
    "T.add_edges(5,s,y)\n",
    "T.add_edges(1,t,x)\n",
    "T.add_edges(2,t,y)\n",
    "T.add_edges(4,x,z)\n",
    "T.add_edges(6,z,x)\n",
    "T.add_edges(7,z,s)\n",
    "T.add_edges(3,y,t)\n",
    "T.add_edges(9,y,x)\n",
    "T.add_edges(2,y,z)"
   ]
  },
  {
   "cell_type": "code",
   "execution_count": 0,
   "metadata": {
    "colab": {},
    "colab_type": "code",
    "id": "PAux_DjtL7vV"
   },
   "outputs": [],
   "source": []
  }
 ],
 "metadata": {
  "anaconda-cloud": {},
  "colab": {
   "collapsed_sections": [],
   "name": "djisktra.ipynb",
   "provenance": [],
   "version": "0.3.2"
  },
  "kernelspec": {
   "display_name": "Python [default]",
   "language": "python",
   "name": "python3"
  },
  "language_info": {
   "codemirror_mode": {
    "name": "ipython",
    "version": 3
   },
   "file_extension": ".py",
   "mimetype": "text/x-python",
   "name": "python",
   "nbconvert_exporter": "python",
   "pygments_lexer": "ipython3",
   "version": "3.5.5"
  }
 },
 "nbformat": 4,
 "nbformat_minor": 1
}
