{
 "cells": [
  {
   "cell_type": "markdown",
   "metadata": {
    "colab_type": "text",
    "id": "view-in-github"
   },
   "source": [
    "[View in Colaboratory](https://colab.research.google.com/github/yogiadi/pyalgo/blob/master/Quicksort.ipynb)"
   ]
  },
  {
   "cell_type": "code",
   "execution_count": 0,
   "metadata": {
    "colab": {},
    "colab_type": "code",
    "id": "K8MAPne8g8yH"
   },
   "outputs": [],
   "source": [
    "def partition(A,p,q):\n",
    "  print(\"A is \",A,\" p is \",p,\" q is \",q)\n",
    "  i=p-1\n",
    "  x=A[q]\n",
    "  print(\"i is \",i)\n",
    "  for j in range(p,q):\n",
    "    print(\"For loop\")\n",
    "    if x > A[j]:\n",
    "      i=i+1\n",
    "      print(\"i is \",i)\n",
    "      print(\"A[q] \",A[q],\" is greater than A[j] \",A[j])\n",
    "      A[i],A[j]=A[j],A[i]\n",
    "  print(\"Returning i is \",i+1)\n",
    "  A[i+1],A[q]=A[q],A[i+1]\n",
    "  return i+1"
   ]
  },
  {
   "cell_type": "code",
   "execution_count": 0,
   "metadata": {
    "colab": {},
    "colab_type": "code",
    "id": "dvbQQiu7hErF"
   },
   "outputs": [],
   "source": [
    "def quicksort(A,p,r):\n",
    "  print(\"A is \",A,\" p is \",p,\" r is \",r)\n",
    "  if p < r:\n",
    "    q=partition(A,p,r)\n",
    "    quicksort(A,p,q-1)\n",
    "    quicksort(A,q+1,r)"
   ]
  },
  {
   "cell_type": "code",
   "execution_count": 4,
   "metadata": {
    "colab": {
     "base_uri": "https://localhost:8080/",
     "height": 569
    },
    "colab_type": "code",
    "id": "d7RvAvRkhRVL",
    "outputId": "16c3819e-81a5-463e-fa4e-75eca78057ac"
   },
   "outputs": [
    {
     "name": "stdout",
     "output_type": "stream",
     "text": [
      "('A is ', [5, 8, 30, 13, 1], ' p is ', 0, ' r is ', 4)\n",
      "('A is ', [5, 8, 30, 13, 1], ' p is ', 0, ' q is ', 4)\n",
      "('i is ', -1)\n",
      "For loop\n",
      "For loop\n",
      "For loop\n",
      "For loop\n",
      "('Returning i is ', 0)\n",
      "('A is ', [1, 8, 30, 13, 5], ' p is ', 0, ' r is ', -1)\n",
      "('A is ', [1, 8, 30, 13, 5], ' p is ', 1, ' r is ', 4)\n",
      "('A is ', [1, 8, 30, 13, 5], ' p is ', 1, ' q is ', 4)\n",
      "('i is ', 0)\n",
      "For loop\n",
      "For loop\n",
      "For loop\n",
      "('Returning i is ', 1)\n",
      "('A is ', [1, 5, 30, 13, 8], ' p is ', 1, ' r is ', 0)\n",
      "('A is ', [1, 5, 30, 13, 8], ' p is ', 2, ' r is ', 4)\n",
      "('A is ', [1, 5, 30, 13, 8], ' p is ', 2, ' q is ', 4)\n",
      "('i is ', 1)\n",
      "For loop\n",
      "For loop\n",
      "('Returning i is ', 2)\n",
      "('A is ', [1, 5, 8, 13, 30], ' p is ', 2, ' r is ', 1)\n",
      "('A is ', [1, 5, 8, 13, 30], ' p is ', 3, ' r is ', 4)\n",
      "('A is ', [1, 5, 8, 13, 30], ' p is ', 3, ' q is ', 4)\n",
      "('i is ', 2)\n",
      "For loop\n",
      "('i is ', 3)\n",
      "('A[q] ', 30, ' is greater than A[j] ', 13)\n",
      "('Returning i is ', 4)\n",
      "('A is ', [1, 5, 8, 13, 30], ' p is ', 3, ' r is ', 3)\n",
      "('A is ', [1, 5, 8, 13, 30], ' p is ', 5, ' r is ', 4)\n"
     ]
    }
   ],
   "source": [
    "quicksort([5,8,30,13,1],0,4)"
   ]
  },
  {
   "cell_type": "code",
   "execution_count": 0,
   "metadata": {
    "colab": {},
    "colab_type": "code",
    "id": "KNdXwl_ohmic"
   },
   "outputs": [],
   "source": []
  }
 ],
 "metadata": {
  "anaconda-cloud": {},
  "colab": {
   "collapsed_sections": [],
   "name": "Quicksort.ipynb",
   "provenance": [],
   "version": "0.3.2"
  },
  "kernelspec": {
   "display_name": "Python [default]",
   "language": "python",
   "name": "python3"
  },
  "language_info": {
   "codemirror_mode": {
    "name": "ipython",
    "version": 3
   },
   "file_extension": ".py",
   "mimetype": "text/x-python",
   "name": "python",
   "nbconvert_exporter": "python",
   "pygments_lexer": "ipython3",
   "version": "3.5.5"
  }
 },
 "nbformat": 4,
 "nbformat_minor": 1
}
