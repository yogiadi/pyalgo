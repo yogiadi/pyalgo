{
 "cells": [
  {
   "cell_type": "markdown",
   "metadata": {
    "colab_type": "text",
    "id": "view-in-github"
   },
   "source": [
    "[View in Colaboratory](https://colab.research.google.com/github/yogiadi/pyalgo/blob/master/prim.ipynb)"
   ]
  },
  {
   "cell_type": "code",
   "execution_count": 0,
   "metadata": {
    "colab": {},
    "colab_type": "code",
    "id": "vd42zLlRPzAK"
   },
   "outputs": [],
   "source": [
    "import numpy as np\n",
    "class Vertex:\n",
    "\tdef __init__(self,name):\n",
    "\t\tself.name=name\n",
    "\t\tself.key=np.inf\n",
    "\t\tself.parent=None\n",
    "\t\tself.neighbours={}"
   ]
  },
  {
   "cell_type": "code",
   "execution_count": 0,
   "metadata": {
    "colab": {},
    "colab_type": "code",
    "id": "OZBgblW8QBKk"
   },
   "outputs": [],
   "source": [
    "class Graph:\n",
    "\tdef __init__(self,name):\n",
    "\t\tself.name=name\n",
    "\t\tself.vertices=[]\n",
    "\t\tself.edges=[]\n",
    "\tdef add_vertices(self,vertex1):\n",
    "\t\tif vertex1 not in self.vertices:\n",
    "\t\t\tself.vertices.append(vertex1)\n",
    "\tdef add_edges(self,weight,vertex1,vertex2):\n",
    "\t\tif vertex1 not in self.vertices:\n",
    "\t\t\tself.vertices.append(vertex1)\n",
    "\t\tif vertex2 not in self.vertices:\n",
    "\t\t\tself.vertices.append(vertex2)\n",
    "\t\tlist=[weight]+[vertex1]+[vertex2]\n",
    "\t\tif list not in self.edges:\n",
    "\t\t\tself.edges.append(list)\n",
    "\t\tvertex1.neighbours[vertex2]=weight\n",
    "\t\tvertex2.neighbours[vertex1]=weight"
   ]
  },
  {
   "cell_type": "code",
   "execution_count": 0,
   "metadata": {
    "colab": {},
    "colab_type": "code",
    "id": "NJBV09mkQHV9"
   },
   "outputs": [],
   "source": [
    "def build_min_heap(arr):\n",
    "  print(\"Calling build_min_heap\")\n",
    "  len_arr=len(arr)\n",
    "  print(\"Length of Array is \",len_arr)\n",
    "  index=(len_arr-1)//2\n",
    "  print(\"Index is \",index)\n",
    "  while(index>=0):\n",
    "    print(\"In while loop\")\n",
    "    print(\"Index is \",index)\n",
    "    min_heapify(arr,index,len_arr)\n",
    "    index=index-1"
   ]
  },
  {
   "cell_type": "code",
   "execution_count": 0,
   "metadata": {
    "colab": {},
    "colab_type": "code",
    "id": "uqDoYa4dQMjQ"
   },
   "outputs": [],
   "source": [
    "def min_heapify(arr,index,len_arr):\n",
    "  left_node=2*index +1\n",
    "  print(\"Left node is \",left_node)\n",
    "  right_node=2*index+2\n",
    "  print(\"Right is \",right_node)\n",
    "  min=index\n",
    "  if (left_node<=len_arr-1 and arr[left_node].key< arr[min].key):\n",
    "    print(\"Left node \",arr[left_node].name,\" is greater than min \",arr[min].name)\n",
    "    min=left_node\n",
    "  if (right_node<=len_arr-1 and arr[right_node].key< arr[min].key):\n",
    "    print(\"Right \",arr[right_node].name,\" is greater than min \",arr[min].name)\n",
    "    min=right_node\n",
    "  if ( min != index):\n",
    "    print(\"Swap \",arr[min].name,\" \",arr[index].name)\n",
    "    arr[min],arr[index]=arr[index],arr[min]\n",
    "    print(\"Calling min_heapify again on min \",min)\n",
    "    min_heapify(arr,min,len_arr)"
   ]
  },
  {
   "cell_type": "code",
   "execution_count": 0,
   "metadata": {
    "colab": {},
    "colab_type": "code",
    "id": "Yod88o2VQQgq"
   },
   "outputs": [],
   "source": [
    "def heap_minimum(arr):\n",
    "  return arr[0]"
   ]
  },
  {
   "cell_type": "code",
   "execution_count": 0,
   "metadata": {
    "colab": {},
    "colab_type": "code",
    "id": "Esy_oHFrQfKt"
   },
   "outputs": [],
   "source": [
    "def heap_extract_min(arr):\n",
    "  min=arr[0]\n",
    "  len_arr=len(arr)\n",
    "  arr[0]=arr[len_arr-1]\n",
    "  del arr[len_arr-1:]\n",
    "  min_heapify(arr,0,len_arr-1)\n",
    "  return min"
   ]
  },
  {
   "cell_type": "code",
   "execution_count": 0,
   "metadata": {
    "colab": {},
    "colab_type": "code",
    "id": "Wj2VmRyeQjwR"
   },
   "outputs": [],
   "source": [
    "def min_heap_insert(arr,element):\n",
    "  arr.append(element)\n",
    "  print(\"Array is \",arr)\n",
    "  len_arr=len(arr)-1\n",
    "  print(\"Array of length is \", len_arr)\n",
    "  heap_increase_key(arr,len_arr)"
   ]
  },
  {
   "cell_type": "code",
   "execution_count": 0,
   "metadata": {
    "colab": {},
    "colab_type": "code",
    "id": "Ps9AagRBQpVa"
   },
   "outputs": [],
   "source": [
    "def heap_increase_key(arr,index):\n",
    "  while index > 0 and arr[index//2].key>arr[index].key:\n",
    "    arr[index],arr[index//2]=arr[index//2],arr[index]\n",
    "    index=index//2"
   ]
  },
  {
   "cell_type": "code",
   "execution_count": 0,
   "metadata": {
    "colab": {},
    "colab_type": "code",
    "id": "NnNfEgHsQ3SJ"
   },
   "outputs": [],
   "source": [
    "def mst_prim(Graph,root,Queue):\n",
    " \troot.key=0\n",
    " \theap_increase_key(Queue,Queue.index(root))\n",
    " \twhile Queue != []:\n",
    " \t\tvertex_min=heap_extract_min(Queue)\n",
    " \t\tprint(\"min name is \",vertex_min.name)\n",
    " \t\tfor next_vert in vertex_min.neighbours.keys():\n",
    " \t\t\tif next_vert in Queue and vertex_min.neighbours[next_vert] < next_vert.key:\n",
    " \t\t\t\tnext_vert.parent=vertex_min\n",
    " \t\t\t\tprint(\"next vert\" , next_vert.name,\" parent is \" , vertex_min.name)\n",
    " \t\t\t\tnext_vert.key=vertex_min.neighbours[next_vert] \n",
    " \t\t\t\theap_increase_key(Queue,Queue.index(next_vert))"
   ]
  },
  {
   "cell_type": "code",
   "execution_count": 0,
   "metadata": {
    "colab": {},
    "colab_type": "code",
    "id": "44wDVp1lQ6Bt"
   },
   "outputs": [],
   "source": [
    "a=Vertex('a')\n",
    "b=Vertex('b')\n",
    "c=Vertex('c')\n",
    "d=Vertex('d')\n",
    "e=Vertex('e')\n",
    "f=Vertex('f')\n",
    "g=Vertex('g')\n",
    "h=Vertex('h')\n",
    "i=Vertex('i')\n",
    "\n",
    "Queue=[a,b,c,d,e,f,g,h,i]"
   ]
  },
  {
   "cell_type": "code",
   "execution_count": 0,
   "metadata": {
    "colab": {},
    "colab_type": "code",
    "id": "BTX9_hvYRTSf"
   },
   "outputs": [],
   "source": [
    "T=Graph('T')\n",
    "T.add_vertices(a)\n",
    "T.add_vertices(b)\n",
    "T.add_vertices(c)\n",
    "T.add_vertices(d)\n",
    "T.add_vertices(e)\n",
    "T.add_vertices(f)\n",
    "T.add_vertices(g)\n",
    "T.add_vertices(h)\n",
    "T.add_vertices(i)\n",
    "T.add_edges(4,a,b)\n",
    "T.add_edges(8,a,h)\n",
    "T.add_edges(11,b,h)\n",
    "T.add_edges(8,b,c)\n",
    "T.add_edges(2,i,c)\n",
    "T.add_edges(7,h,i)\n",
    "T.add_edges(1,h,g)\n",
    "T.add_edges(6,i,g)\n",
    "T.add_edges(2,g,f)\n",
    "T.add_edges(4,c,f)\n",
    "T.add_edges(7,c,d)\n",
    "T.add_edges(14,d,f)\n",
    "T.add_edges(9,d,e)\n",
    "T.add_edges(10,f,e)"
   ]
  },
  {
   "cell_type": "code",
   "execution_count": 0,
   "metadata": {
    "colab": {},
    "colab_type": "code",
    "id": "JOmMYTJlR2p0"
   },
   "outputs": [],
   "source": []
  }
 ],
 "metadata": {
  "anaconda-cloud": {},
  "colab": {
   "name": "prim.ipynb",
   "provenance": [],
   "version": "0.3.2"
  },
  "kernelspec": {
   "display_name": "Python [default]",
   "language": "python",
   "name": "python3"
  },
  "language_info": {
   "codemirror_mode": {
    "name": "ipython",
    "version": 3
   },
   "file_extension": ".py",
   "mimetype": "text/x-python",
   "name": "python",
   "nbconvert_exporter": "python",
   "pygments_lexer": "ipython3",
   "version": "3.5.5"
  }
 },
 "nbformat": 4,
 "nbformat_minor": 1
}
