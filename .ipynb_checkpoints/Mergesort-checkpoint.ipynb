{
 "cells": [
  {
   "cell_type": "markdown",
   "metadata": {
    "colab_type": "text",
    "id": "view-in-github"
   },
   "source": [
    "[View in Colaboratory](https://colab.research.google.com/github/yogiadi/pyalgo/blob/master/Mergesort.ipynb)"
   ]
  },
  {
   "cell_type": "code",
   "execution_count": 0,
   "metadata": {
    "colab": {},
    "colab_type": "code",
    "id": "FF-xyjQNifVZ"
   },
   "outputs": [],
   "source": [
    "def mergesort(alist):\n",
    "  print(\"Splitting \",alist)\n",
    "  if len(alist)>1:\n",
    "      mid= len(alist)//2\n",
    "      print(\"mid of \",alist,\" is \",mid)\n",
    "      lefthalf=alist[:mid]\n",
    "      print(\"lefthalf is \",lefthalf,\" of \",alist)\n",
    "      righthalf=alist[mid:]\n",
    "      print(\"righthalf is \",righthalf,\" of \",alist)\n",
    "      mergesort(lefthalf)\n",
    "      mergesort(righthalf)\n",
    "      i=0\n",
    "      j=0\n",
    "      k=0\n",
    "      print(\"Merging left \",lefthalf,\"and right \",righthalf)\n",
    "      while i < len(lefthalf) and j < len(righthalf):\n",
    "          if lefthalf[i] < righthalf[j]:\n",
    "              print(\"Lefthalf is greater in \" , lefthalf ,\" main list of \",alist,\" where right is \" , righthalf )\n",
    "              alist[k]=lefthalf[i]\n",
    "              print(\"alist is now \",alist)\n",
    "              i=i+1\n",
    "          else:\n",
    "              print(\"Righthalf is greater in \" , righthalf ,\" main list of \",alist,\" where right is \" , lefthalf)\n",
    "              alist[k]=righthalf[j]\n",
    "              print(\"alist is now \",alist)\n",
    "              j=j+1\n",
    "          k=k+1\n",
    "      while i < len(lefthalf):\n",
    "          print(\"Left is \" , lefthalf,\" and alist is \",alist)\n",
    "          alist[k]=lefthalf[i]\n",
    "          i=i+1\n",
    "          k=k+1\n",
    "          print(\"Left has now filled  \" ,alist)\n",
    "      while j<len(righthalf):\n",
    "          print(\"Right is \" , righthalf,\" and alist is \",alist)\n",
    "          alist[k]=righthalf[j]\n",
    "          j=j+1\n",
    "          k=k+1\n",
    "          print(\"Right has now filled  \" ,alist)\n",
    "  print(\"Merging\",alist)"
   ]
  },
  {
   "cell_type": "code",
   "execution_count": 2,
   "metadata": {
    "colab": {
     "base_uri": "https://localhost:8080/",
     "height": 987
    },
    "colab_type": "code",
    "id": "xix55oDZi5Lm",
    "outputId": "34ca162d-976e-439f-e423-ba815b2d88ea"
   },
   "outputs": [
    {
     "name": "stdout",
     "output_type": "stream",
     "text": [
      "('Splitting ', [8, 5, 3, 9, 1])\n",
      "('mid of ', [8, 5, 3, 9, 1], ' is ', 2)\n",
      "('lefthalf is ', [8, 5], ' of ', [8, 5, 3, 9, 1])\n",
      "('righthalf is ', [3, 9, 1], ' of ', [8, 5, 3, 9, 1])\n",
      "('Splitting ', [8, 5])\n",
      "('mid of ', [8, 5], ' is ', 1)\n",
      "('lefthalf is ', [8], ' of ', [8, 5])\n",
      "('righthalf is ', [5], ' of ', [8, 5])\n",
      "('Splitting ', [8])\n",
      "('Merging', [8])\n",
      "('Splitting ', [5])\n",
      "('Merging', [5])\n",
      "('Merging left ', [8], 'and right ', [5])\n",
      "('Righthalf is greater in ', [5], ' main list of ', [8, 5], ' where right is ', [8])\n",
      "('alist is now ', [5, 5])\n",
      "('Left is ', [8], ' and alist is ', [5, 5])\n",
      "('Left has now filled  ', [5, 8])\n",
      "('Merging', [5, 8])\n",
      "('Splitting ', [3, 9, 1])\n",
      "('mid of ', [3, 9, 1], ' is ', 1)\n",
      "('lefthalf is ', [3], ' of ', [3, 9, 1])\n",
      "('righthalf is ', [9, 1], ' of ', [3, 9, 1])\n",
      "('Splitting ', [3])\n",
      "('Merging', [3])\n",
      "('Splitting ', [9, 1])\n",
      "('mid of ', [9, 1], ' is ', 1)\n",
      "('lefthalf is ', [9], ' of ', [9, 1])\n",
      "('righthalf is ', [1], ' of ', [9, 1])\n",
      "('Splitting ', [9])\n",
      "('Merging', [9])\n",
      "('Splitting ', [1])\n",
      "('Merging', [1])\n",
      "('Merging left ', [9], 'and right ', [1])\n",
      "('Righthalf is greater in ', [1], ' main list of ', [9, 1], ' where right is ', [9])\n",
      "('alist is now ', [1, 1])\n",
      "('Left is ', [9], ' and alist is ', [1, 1])\n",
      "('Left has now filled  ', [1, 9])\n",
      "('Merging', [1, 9])\n",
      "('Merging left ', [3], 'and right ', [1, 9])\n",
      "('Righthalf is greater in ', [1, 9], ' main list of ', [3, 9, 1], ' where right is ', [3])\n",
      "('alist is now ', [1, 9, 1])\n",
      "('Lefthalf is greater in ', [3], ' main list of ', [1, 9, 1], ' where right is ', [1, 9])\n",
      "('alist is now ', [1, 3, 1])\n",
      "('Right is ', [1, 9], ' and alist is ', [1, 3, 1])\n",
      "('Right has now filled  ', [1, 3, 9])\n",
      "('Merging', [1, 3, 9])\n",
      "('Merging left ', [5, 8], 'and right ', [1, 3, 9])\n",
      "('Righthalf is greater in ', [1, 3, 9], ' main list of ', [8, 5, 3, 9, 1], ' where right is ', [5, 8])\n",
      "('alist is now ', [1, 5, 3, 9, 1])\n",
      "('Righthalf is greater in ', [1, 3, 9], ' main list of ', [1, 5, 3, 9, 1], ' where right is ', [5, 8])\n",
      "('alist is now ', [1, 3, 3, 9, 1])\n",
      "('Lefthalf is greater in ', [5, 8], ' main list of ', [1, 3, 3, 9, 1], ' where right is ', [1, 3, 9])\n",
      "('alist is now ', [1, 3, 5, 9, 1])\n",
      "('Lefthalf is greater in ', [5, 8], ' main list of ', [1, 3, 5, 9, 1], ' where right is ', [1, 3, 9])\n",
      "('alist is now ', [1, 3, 5, 8, 1])\n",
      "('Right is ', [1, 3, 9], ' and alist is ', [1, 3, 5, 8, 1])\n",
      "('Right has now filled  ', [1, 3, 5, 8, 9])\n",
      "('Merging', [1, 3, 5, 8, 9])\n"
     ]
    }
   ],
   "source": [
    "mergesort([8,5,3,9,1])"
   ]
  },
  {
   "cell_type": "code",
   "execution_count": 0,
   "metadata": {
    "colab": {},
    "colab_type": "code",
    "id": "m7vw-JgNjD9S"
   },
   "outputs": [],
   "source": []
  }
 ],
 "metadata": {
  "anaconda-cloud": {},
  "colab": {
   "collapsed_sections": [],
   "name": "Mergesort.ipynb",
   "provenance": [],
   "version": "0.3.2"
  },
  "kernelspec": {
   "display_name": "Python [default]",
   "language": "python",
   "name": "python3"
  },
  "language_info": {
   "codemirror_mode": {
    "name": "ipython",
    "version": 3
   },
   "file_extension": ".py",
   "mimetype": "text/x-python",
   "name": "python",
   "nbconvert_exporter": "python",
   "pygments_lexer": "ipython3",
   "version": "3.5.5"
  }
 },
 "nbformat": 4,
 "nbformat_minor": 1
}
