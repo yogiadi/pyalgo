{
 "cells": [
  {
   "cell_type": "markdown",
   "metadata": {
    "colab_type": "text",
    "id": "view-in-github"
   },
   "source": [
    "[View in Colaboratory](https://colab.research.google.com/github/yogiadi/pyalgo/blob/master/stacks.ipynb)"
   ]
  },
  {
   "cell_type": "code",
   "execution_count": 0,
   "metadata": {
    "colab": {},
    "colab_type": "code",
    "id": "L-gPvyc4Uira"
   },
   "outputs": [],
   "source": [
    "class ArrayStack:\n",
    "  def __init__(self):\n",
    "    self._data=[]\n",
    "  def __len__(self):\n",
    "    return len(self._data)\n",
    "  def is_empty(self):\n",
    "    return len(self._data)==0\n",
    "  def push(self,e):\n",
    "    self._data.append(e)\n",
    "  def top(self):\n",
    "    if self.is_empty():\n",
    "      raise Empty('Stack is empty')\n",
    "    return self._data[-1]\n",
    "  def pop(self):\n",
    "    if self.is_empty():\n",
    "      raise Empty('Stack is empty')\n",
    "    return self._data.pop()\n",
    "  def reverse_file(filename):\n",
    "    S=ArrayStack()\n",
    "    original=open(filename)\n",
    "    for line in original:\n",
    "      S.push(line.rstrip('\\n'))\n",
    "    original.close()\n",
    "    output=open(filename,'w')\n",
    "    while not S.is_empty():\n",
    "      output.write(S.pop()+'\\n')\n",
    "    output.close()"
   ]
  },
  {
   "cell_type": "code",
   "execution_count": 0,
   "metadata": {
    "colab": {},
    "colab_type": "code",
    "id": "u-m_CP8NUnzS"
   },
   "outputs": [],
   "source": []
  }
 ],
 "metadata": {
  "colab": {
   "name": "stacks.ipynb",
   "provenance": [],
   "version": "0.3.2"
  },
  "kernelspec": {
   "display_name": "Python [default]",
   "language": "python",
   "name": "python3"
  },
  "language_info": {
   "codemirror_mode": {
    "name": "ipython",
    "version": 3
   },
   "file_extension": ".py",
   "mimetype": "text/x-python",
   "name": "python",
   "nbconvert_exporter": "python",
   "pygments_lexer": "ipython3",
   "version": "3.5.5"
  }
 },
 "nbformat": 4,
 "nbformat_minor": 1
}
