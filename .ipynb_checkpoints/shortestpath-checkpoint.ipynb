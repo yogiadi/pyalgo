{
 "cells": [
  {
   "cell_type": "markdown",
   "metadata": {
    "colab_type": "text",
    "id": "view-in-github"
   },
   "source": [
    "[View in Colaboratory](https://colab.research.google.com/github/yogiadi/pyalgo/blob/master/shortestpath.ipynb)"
   ]
  },
  {
   "cell_type": "code",
   "execution_count": 0,
   "metadata": {
    "colab": {},
    "colab_type": "code",
    "id": "R7KNMVNZSnPv"
   },
   "outputs": [],
   "source": [
    "import numpy as np\n",
    "W=[[0,3,8,np.inf,-4],[np.inf,0,np.inf,1,7],[np.inf,4,0,np.inf,np.inf],[2,np.inf,-5,0,np.inf],[np.inf,np.inf,np.inf,6,0]]\n",
    "\n",
    "L=[[np.inf for i in range(5)] for i in range(5)]"
   ]
  },
  {
   "cell_type": "code",
   "execution_count": 0,
   "metadata": {
    "colab": {},
    "colab_type": "code",
    "id": "8B93MODITJlC"
   },
   "outputs": [],
   "source": [
    "def extend_shortest_path(L,W):\n",
    "\tn = len(L)\n",
    "\tL_dash=[[np.inf for i in range(n)] for i in range(n)]\n",
    "\tfor i in range(n):\n",
    "\t\tfor j in range(n):\n",
    "\t\t\tfor k in range(n):\n",
    "\t\t\t\tL_dash[i][j]=min(L_dash[i][j] , L[i][k]+W[k][j])\n",
    "\treturn L_dash\n"
   ]
  },
  {
   "cell_type": "code",
   "execution_count": 0,
   "metadata": {
    "colab": {},
    "colab_type": "code",
    "id": "kUMEu6nLTSG6"
   },
   "outputs": [],
   "source": [
    "def slow_all_pairs_shortest_path(W):\n",
    "\tn=len(W)\n",
    "\tbase_L = W\n",
    "\tfor m in range(1,n):\n",
    "\t\tL_temp=[[np.inf for i in range(n)] for i in range(n)]\n",
    "\t\tL_temp=extend_shortest_path(base_L ,W)\n",
    "\t\tbase_L =L_temp\n",
    "\treturn base_L "
   ]
  },
  {
   "cell_type": "code",
   "execution_count": 0,
   "metadata": {
    "colab": {},
    "colab_type": "code",
    "id": "8ivuO21yTUV9"
   },
   "outputs": [],
   "source": [
    "def faster_all_pairs_shortest_path(W):\n",
    "\tn=len(W)\n",
    "\tbase_L=W\n",
    "\tfor m in range(1,n):\n",
    "\t\tL_temp=[[np.inf for i in range(n)] for i in range(n)]\n",
    "\t\tL_temp=extend_shortest_path(base_L ,base_L)\n",
    "\t\tbase_L=L_temp\n",
    "\t\tm=2*m\n",
    "\treturn base_L"
   ]
  },
  {
   "cell_type": "code",
   "execution_count": 0,
   "metadata": {
    "colab": {},
    "colab_type": "code",
    "id": "l2LYBWhFTZir"
   },
   "outputs": [],
   "source": [
    "final_L=faster_all_pairs_shortest_path(W)"
   ]
  },
  {
   "cell_type": "code",
   "execution_count": 0,
   "metadata": {
    "colab": {},
    "colab_type": "code",
    "id": "cm49ZUX2TbJZ"
   },
   "outputs": [],
   "source": []
  }
 ],
 "metadata": {
  "anaconda-cloud": {},
  "colab": {
   "name": "shortestpath.ipynb",
   "provenance": [],
   "version": "0.3.2"
  },
  "kernelspec": {
   "display_name": "Python [default]",
   "language": "python",
   "name": "python3"
  },
  "language_info": {
   "codemirror_mode": {
    "name": "ipython",
    "version": 3
   },
   "file_extension": ".py",
   "mimetype": "text/x-python",
   "name": "python",
   "nbconvert_exporter": "python",
   "pygments_lexer": "ipython3",
   "version": "3.5.5"
  }
 },
 "nbformat": 4,
 "nbformat_minor": 1
}
