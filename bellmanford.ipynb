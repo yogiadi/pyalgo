{
 "cells": [
  {
   "cell_type": "markdown",
   "metadata": {
    "colab_type": "text",
    "id": "view-in-github"
   },
   "source": [
    "[View in Colaboratory](https://colab.research.google.com/github/yogiadi/pyalgo/blob/master/bellmanford.ipynb)"
   ]
  },
  {
   "cell_type": "code",
   "execution_count": 0,
   "metadata": {
    "colab": {},
    "colab_type": "code",
    "collapsed": true,
    "id": "Yrcc-jrOzTBs"
   },
   "outputs": [],
   "source": [
    "import numpy as np"
   ]
  },
  {
   "cell_type": "code",
   "execution_count": 0,
   "metadata": {
    "colab": {},
    "colab_type": "code",
    "collapsed": true,
    "id": "TqK84kuXz97w"
   },
   "outputs": [],
   "source": [
    "class Vertex:\n",
    "\tdef __init__(self,name):\n",
    "\t\tself.name=name\n",
    "\t\tself.distance=np.inf\n",
    "\t\tself.parent=None"
   ]
  },
  {
   "cell_type": "code",
   "execution_count": 0,
   "metadata": {
    "colab": {},
    "colab_type": "code",
    "collapsed": true,
    "id": "Xhw5k90KzVwt"
   },
   "outputs": [],
   "source": [
    "\n",
    "class Graph:\n",
    "\tdef __init__(self,name):\n",
    "\t\tself.name=name\n",
    "\t\tself.vertices=[]\n",
    "\t\tself.edges=[]\n",
    "\tdef add_edges(self,weight,vertex1,vertex2):\n",
    "\t\tif vertex1 not in self.vertices:\n",
    "\t\t\tself.vertices.append(vertex1)\n",
    "\t\tif vertex2 not in self.vertices:\n",
    "\t\t\tself.vertices.append(vertex2)\n",
    "\t\tself.edges.append([weight]+[vertex1]+[vertex2])"
   ]
  },
  {
   "cell_type": "code",
   "execution_count": 0,
   "metadata": {
    "colab": {},
    "colab_type": "code",
    "collapsed": true,
    "id": "2oX7-7KtzjAz"
   },
   "outputs": [],
   "source": [
    "def relax(weight,vertex1,vertex2):\n",
    "\tif vertex2.distance > vertex1.distance + weight:\n",
    "\t\tvertex2.distance=vertex1.distance + weight\n",
    "\t\tvertex2.parent=vertex1\n",
    "\t\tprint(\"vertex1 is \",vertex1.name,\"vertex2 is \" , vertex2.name,\"distance of vertex2 is \", vertex2.distance)"
   ]
  },
  {
   "cell_type": "code",
   "execution_count": 0,
   "metadata": {
    "colab": {},
    "colab_type": "code",
    "collapsed": true,
    "id": "TVc5H4Syzorf"
   },
   "outputs": [],
   "source": [
    "def bellman_ford(graph,source):\n",
    "\tsource.distance=0\n",
    "\tfor j in range(0,len(graph.vertices)):\n",
    "\t\tfor  weight,vertex1,vertex2 in graph.edges:\n",
    "\t\t\trelax(weight,vertex1,vertex2)\n",
    "\tfor weight,vertex1,vertex2 in graph.edges:\n",
    "\t\tif vertex2.distance > vertex1.distance + weight:\n",
    "\t\t\treturn False\n",
    "\treturn True"
   ]
  },
  {
   "cell_type": "code",
   "execution_count": 0,
   "metadata": {
    "colab": {},
    "colab_type": "code",
    "collapsed": true,
    "id": "uFEU1tulzrE9"
   },
   "outputs": [],
   "source": [
    "s=Vertex('s')\n",
    "t=Vertex('t')\n",
    "x=Vertex('x')\n",
    "y=Vertex('y')\n",
    "z=Vertex('z')\n",
    "T=Graph('T')\n",
    "T.add_edges(5,t,x)\n",
    "T.add_edges(8,t,y)\n",
    "T.add_edges(-4,t,z)\n",
    "T.add_edges(-2,x,t)\n",
    "T.add_edges(-3,y,x)\n",
    "T.add_edges(9,y,z)\n",
    "T.add_edges(7,z,x)\n",
    "T.add_edges(2,z,s)\n",
    "T.add_edges(6,s,t)\n",
    "T.add_edges(7,s,y)"
   ]
  },
  {
   "cell_type": "code",
   "execution_count": 11,
   "metadata": {
    "colab": {
     "base_uri": "https://localhost:8080/",
     "height": 151
    },
    "colab_type": "code",
    "id": "wEnnBaOVztRn",
    "outputId": "797e0990-c1fc-42a3-cf24-44c1a362b448"
   },
   "outputs": [
    {
     "name": "stdout",
     "output_type": "stream",
     "text": [
      "('vertex1 is ', 's', 'vertex2 is ', 't', 'distance of vertex2 is ', 6)\n",
      "('vertex1 is ', 's', 'vertex2 is ', 'y', 'distance of vertex2 is ', 7)\n",
      "('vertex1 is ', 't', 'vertex2 is ', 'x', 'distance of vertex2 is ', 11)\n",
      "('vertex1 is ', 't', 'vertex2 is ', 'z', 'distance of vertex2 is ', 2)\n",
      "('vertex1 is ', 'y', 'vertex2 is ', 'x', 'distance of vertex2 is ', 4)\n",
      "('vertex1 is ', 'x', 'vertex2 is ', 't', 'distance of vertex2 is ', 2)\n",
      "('vertex1 is ', 't', 'vertex2 is ', 'z', 'distance of vertex2 is ', -2)\n"
     ]
    },
    {
     "data": {
      "text/plain": [
       "True"
      ]
     },
     "execution_count": 11,
     "metadata": {
      "tags": []
     },
     "output_type": "execute_result"
    }
   ],
   "source": [
    "bellman_ford(T,s)"
   ]
  },
  {
   "cell_type": "code",
   "execution_count": 13,
   "metadata": {
    "colab": {
     "base_uri": "https://localhost:8080/",
     "height": 34
    },
    "colab_type": "code",
    "id": "4Euc5QRm0ORu",
    "outputId": "84e2f221-35c9-4851-ce55-0f091d587a63"
   },
   "outputs": [
    {
     "data": {
      "text/plain": [
       "2"
      ]
     },
     "execution_count": 13,
     "metadata": {
      "tags": []
     },
     "output_type": "execute_result"
    }
   ],
   "source": [
    "s.distance\n",
    "t.distance"
   ]
  },
  {
   "cell_type": "code",
   "execution_count": 0,
   "metadata": {
    "colab": {},
    "colab_type": "code",
    "collapsed": true,
    "id": "XC-ZWOqF0SLh"
   },
   "outputs": [],
   "source": []
  }
 ],
 "metadata": {
  "anaconda-cloud": {},
  "colab": {
   "collapsed_sections": [],
   "name": "bellmanford.ipynb",
   "provenance": [],
   "version": "0.3.2"
  },
  "kernelspec": {
   "display_name": "Python [default]",
   "language": "python",
   "name": "python3"
  },
  "language_info": {
   "codemirror_mode": {
    "name": "ipython",
    "version": 3
   },
   "file_extension": ".py",
   "mimetype": "text/x-python",
   "name": "python",
   "nbconvert_exporter": "python",
   "pygments_lexer": "ipython3",
   "version": "3.5.5"
  }
 },
 "nbformat": 4,
 "nbformat_minor": 1
}
