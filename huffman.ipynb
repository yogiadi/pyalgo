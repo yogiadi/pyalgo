{
  "nbformat": 4,
  "nbformat_minor": 0,
  "metadata": {
    "colab": {
      "name": "huffman.ipynb",
      "version": "0.3.2",
      "provenance": [],
      "collapsed_sections": []
    }
  },
  "cells": [
    {
      "cell_type": "markdown",
      "metadata": {
        "id": "view-in-github",
        "colab_type": "text"
      },
      "source": [
        "[View in Colaboratory](https://colab.research.google.com/github/yogiadi/pyalgo/blob/master/huffman.ipynb)"
      ]
    },
    {
      "metadata": {
        "id": "-qzgNgWxx1nn",
        "colab_type": "code",
        "colab": {}
      },
      "cell_type": "code",
      "source": [
        "def build_min_heap(arr):\n",
        "  print(\"Calling build_min_heap\")\n",
        "  len_arr=len(arr)\n",
        "  print(\"Length of Array is \",len_arr)\n",
        "  index=(len_arr-1)//2\n",
        "  print(\"Index is \",index)\n",
        "  while(index>=0):\n",
        "    print(\"In while loop\")\n",
        "    print(\"Index is \",index)\n",
        "    min_heapify(arr,index,len_arr)\n",
        "    index=index-1"
      ],
      "execution_count": 0,
      "outputs": []
    },
    {
      "metadata": {
        "id": "QPx2UiDcx5q8",
        "colab_type": "code",
        "colab": {}
      },
      "cell_type": "code",
      "source": [
        "def min_heapify(arr,index,len_arr):\n",
        "  left_node=2*index +1\n",
        "  print(\"Left node is \",left_node)\n",
        "  right_node=2*index+2\n",
        "  print(\"Right is \",right_node)\n",
        "  min=index\n",
        "  if (left_node<=len_arr-1 and arr[left_node]< arr[min]):\n",
        "    print(\"Left node \",arr[left_node],\" is greater than min \",arr[min])\n",
        "    min=left_node\n",
        "  if (right_node<=len_arr-1 and arr[right_node]< arr[min]):\n",
        "    print(\"Right \",arr[right_node],\" is greater than min \",arr[min])\n",
        "    min=right_node\n",
        "  if ( min != index):\n",
        "    print(\"Swap \",arr[min],\" \",arr[index])\n",
        "    arr[min],arr[index]=arr[index],arr[min]\n",
        "    print(\"Calling min_heapify again on min \",min)\n",
        "    min_heapify(arr,min,len_arr)"
      ],
      "execution_count": 0,
      "outputs": []
    },
    {
      "metadata": {
        "id": "4QWKqgWNyGC3",
        "colab_type": "code",
        "colab": {}
      },
      "cell_type": "code",
      "source": [
        "def heap_minimum(arr):\n",
        "  return arr[0]"
      ],
      "execution_count": 0,
      "outputs": []
    },
    {
      "metadata": {
        "id": "wLM_ETtryPY5",
        "colab_type": "code",
        "colab": {}
      },
      "cell_type": "code",
      "source": [
        "def heap_extract_min(arr):\n",
        "  min=arr[0]\n",
        "  len_arr=len(arr)\n",
        "  arr[0]=arr[len_arr-1]\n",
        "  del arr[len_arr-1:]\n",
        "  min_heapify(arr,0,len_arr-1)\n",
        "  return min"
      ],
      "execution_count": 0,
      "outputs": []
    },
    {
      "metadata": {
        "id": "l52BH0NLyRpx",
        "colab_type": "code",
        "colab": {}
      },
      "cell_type": "code",
      "source": [
        "def min_heap_insert(arr,key):\n",
        "  arr.append(key)\n",
        "  print(\"Array is \",arr)\n",
        "  len_arr=len(arr)-1\n",
        "  print(\"Array of length is \", len_arr)\n",
        "  heap_increase_key(arr,len_arr)"
      ],
      "execution_count": 0,
      "outputs": []
    },
    {
      "metadata": {
        "id": "niuDQ5KByT17",
        "colab_type": "code",
        "colab": {}
      },
      "cell_type": "code",
      "source": [
        "def heap_increase_key(arr,index):\n",
        "  while index > 0 and arr[index//2]>arr[index]:\n",
        "    arr[index],arr[index//2]=arr[index//2],arr[index]\n",
        "    index=index//2"
      ],
      "execution_count": 0,
      "outputs": []
    },
    {
      "metadata": {
        "id": "oNNkcZAZyWvZ",
        "colab_type": "code",
        "colab": {}
      },
      "cell_type": "code",
      "source": [
        "def encode(arr):\n",
        "    heap = [[weight, [symbol, '']] for weight, symbol in arr]\n",
        "    while len(heap) > 1:\n",
        "        lo = heap_extract_min(heap)\n",
        "        hi = heap_extract_min(heap)\n",
        "        for pair in lo[1:]:\n",
        "            pair[1] = '0' + pair[1]\n",
        "        for pair in hi[1:]:\n",
        "            pair[1] = '1' + pair[1]\n",
        "        min_heap_insert(heap, [lo[0] + hi[0]] + lo[1:] + hi[1:])"
      ],
      "execution_count": 0,
      "outputs": []
    },
    {
      "metadata": {
        "id": "A1rbIhBTyZLE",
        "colab_type": "code",
        "colab": {}
      },
      "cell_type": "code",
      "source": [
        ""
      ],
      "execution_count": 0,
      "outputs": []
    }
  ]
}