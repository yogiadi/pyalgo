{
  "nbformat": 4,
  "nbformat_minor": 0,
  "metadata": {
    "colab": {
      "name": "longcommonsubseq.ipynb",
      "version": "0.3.2",
      "provenance": [],
      "collapsed_sections": []
    }
  },
  "cells": [
    {
      "cell_type": "markdown",
      "metadata": {
        "id": "view-in-github",
        "colab_type": "text"
      },
      "source": [
        "[View in Colaboratory](https://colab.research.google.com/github/yogiadi/pyalgo/blob/master/longcommonsubseq.ipynb)"
      ]
    },
    {
      "metadata": {
        "id": "c-X6F6kROgLL",
        "colab_type": "code",
        "colab": {}
      },
      "cell_type": "code",
      "source": [
        "def lcs_length(X,Y):\n",
        "  m=len(X)\n",
        "  n=len(Y)\n",
        "  b=[[]]\n",
        "  c=[[]]\n",
        "  b=[[0 for j in range(n+1)] for i in range(m+1)]\n",
        "  c=[[0 for j in range(n+1)] for i in range(m+1)]\n",
        "  for i in range (0,m):\n",
        "    for j in range(0,n):\n",
        "      if X[i] == Y[j]:\n",
        "        c[i+1][j+1]=c[i][j]+1\n",
        "        b[i+1][j+1]=\"diag\"\n",
        "      elif c[i][j+1]>=c[i+1][j]:\n",
        "        c[i+1][j+1]=c[i][j+1]\n",
        "        b[i+1][j+1]=\"up\"\n",
        "      else :\n",
        "        c[i+1][j+1]=c[i+1][j]\n",
        "        b[i+1][j+1]=\"left\"\n",
        "  return c , b"
      ],
      "execution_count": 0,
      "outputs": []
    },
    {
      "metadata": {
        "id": "Q3pvf0SBOuoN",
        "colab_type": "code",
        "colab": {}
      },
      "cell_type": "code",
      "source": [
        "def print_lcs(b,X,i,j):\n",
        "  print(\"i is \",i,\" and j is \",j)\n",
        "  if i== 0 or j==0:\n",
        "    return\n",
        "  if b[i][j]==\"diag\":\n",
        "    print_lcs(b,X,i-1,j-1)\n",
        "    print(X[i-1])\n",
        "  elif b[i][j]==\"up\":\n",
        "    print_lcs(b,X,i-1,j)\n",
        "  else:\n",
        "    print_lcs(b,X,i,j-1)"
      ],
      "execution_count": 0,
      "outputs": []
    },
    {
      "metadata": {
        "id": "AS3ucfeFO0M7",
        "colab_type": "code",
        "colab": {}
      },
      "cell_type": "code",
      "source": [
        ""
      ],
      "execution_count": 0,
      "outputs": []
    }
  ]
}