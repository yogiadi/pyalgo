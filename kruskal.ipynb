{
  "nbformat": 4,
  "nbformat_minor": 0,
  "metadata": {
    "colab": {
      "name": "kruskal.ipynb",
      "version": "0.3.2",
      "provenance": [],
      "collapsed_sections": []
    }
  },
  "cells": [
    {
      "cell_type": "markdown",
      "metadata": {
        "id": "view-in-github",
        "colab_type": "text"
      },
      "source": [
        "[View in Colaboratory](https://colab.research.google.com/github/yogiadi/pyalgo/blob/master/kruskal.ipynb)"
      ]
    },
    {
      "metadata": {
        "id": "min9695RM1vA",
        "colab_type": "code",
        "colab": {}
      },
      "cell_type": "code",
      "source": [
        "class Vertex:\n",
        "\tdef __init__(self,name):\n",
        "\t\tself.name=name\n",
        "\t\tself.parent=self\n",
        "\t\tself.rank=0"
      ],
      "execution_count": 0,
      "outputs": []
    },
    {
      "metadata": {
        "id": "hZ3FW_AGNDa7",
        "colab_type": "code",
        "colab": {}
      },
      "cell_type": "code",
      "source": [
        "def union(dsets1,dsets2):\n",
        "\tlink(find_set(dsets1),find_set(dsets2))"
      ],
      "execution_count": 0,
      "outputs": []
    },
    {
      "metadata": {
        "id": "rKjVgHIJNL1Q",
        "colab_type": "code",
        "colab": {}
      },
      "cell_type": "code",
      "source": [
        "\n",
        "def link(dsets1,dsets2):\n",
        "\tif dsets1.rank > dsets2.rank :\n",
        "\t\tdsets2.parent=dsets1\n",
        "\telse :\n",
        "\t\tdsets1.parent=dsets2\n",
        "\t\tif (dsets1.rank == dsets2.rank):\n",
        "\t\t\tdsets2.rank=dsets2.rank +1"
      ],
      "execution_count": 0,
      "outputs": []
    },
    {
      "metadata": {
        "id": "l1RP6xQDNQXM",
        "colab_type": "code",
        "colab": {}
      },
      "cell_type": "code",
      "source": [
        "def find_set(dsets):\n",
        "\tif dsets != dsets.parent:\n",
        "\t\tdsets.parent=find_set(dsets.parent)\n",
        "\treturn dsets.parent"
      ],
      "execution_count": 0,
      "outputs": []
    },
    {
      "metadata": {
        "id": "vjHurDwWNUuA",
        "colab_type": "code",
        "colab": {}
      },
      "cell_type": "code",
      "source": [
        "class Graph:\n",
        "\tdef __init__(self,name):\n",
        "\t\tself.name=name\n",
        "\t\tself.vertices=[]\n",
        "\t\tself.edges=[]\n",
        "\tdef add_vertices(self,vertex):\n",
        "\t\tif vertex not in self.vertices:\n",
        "\t\t\tself.vertices.append(vertex)\n",
        "\tdef add_edges(self,weight,point1,point2):\n",
        "\t\tedge=[weight]+[point1]+[point2]\n",
        "\t\tif edge not in self.edges:\n",
        "\t\t\tself.edges.append(edge)"
      ],
      "execution_count": 0,
      "outputs": []
    },
    {
      "metadata": {
        "id": "icfgplFyNYBt",
        "colab_type": "code",
        "colab": {}
      },
      "cell_type": "code",
      "source": [
        "def mst_kruskal(supertree,A):\n",
        "\tsorted_edge=sorted(supertree.edges,key=lambda l:l[0])\n",
        "\tfor weight , point1 , point2 in sorted_edge:\n",
        "\t\tprint(\"weight is \",weight , \"point1 is \",point1.name,\"point2 is \",point2.name)\n",
        "\t\tprint(find_set(point1).name)\n",
        "\t\tif find_set(point1) != find_set(point2):\n",
        "\t\t\tprint(\"Add vetices\")\n",
        "\t\t\tA.add_vertices(point1)\n",
        "\t\t\tA.add_vertices(point2)\n",
        "\t\t\tA.add_edges(weight,point1,point2)\n",
        "\t\t\tunion(point1,point2)"
      ],
      "execution_count": 0,
      "outputs": []
    },
    {
      "metadata": {
        "id": "07eDHe2YNbUq",
        "colab_type": "code",
        "colab": {}
      },
      "cell_type": "code",
      "source": [
        "a=Vertex('a')\n",
        "b=Vertex('b')\n",
        "c=Vertex('c')\n",
        "d=Vertex('d')\n",
        "e=Vertex('e')\n",
        "f=Vertex('f')\n",
        "g=Vertex('g')\n",
        "h=Vertex('h')\n",
        "i=Vertex('i')\n",
        "\n",
        "T=Graph('T')\n",
        "T.add_vertices(a)\n",
        "T.add_vertices(b)\n",
        "T.add_vertices(c)\n",
        "T.add_vertices(d)\n",
        "T.add_vertices(e)\n",
        "T.add_vertices(f)\n",
        "T.add_vertices(g)\n",
        "T.add_vertices(h)\n",
        "T.add_vertices(i)\n",
        "T.add_edges(4,a,b)\n",
        "T.add_edges(8,a,h)\n",
        "T.add_edges(11,b,h)\n",
        "T.add_edges(8,b,c)\n",
        "T.add_edges(2,i,c)\n",
        "T.add_edges(7,h,i)\n",
        "T.add_edges(1,h,g)\n",
        "T.add_edges(6,i,g)\n",
        "T.add_edges(2,g,f)\n",
        "T.add_edges(4,c,f)\n",
        "T.add_edges(7,c,d)\n",
        "T.add_edges(14,d,f)\n",
        "T.add_edges(9,d,e)\n",
        "T.add_edges(10,f,e)"
      ],
      "execution_count": 0,
      "outputs": []
    },
    {
      "metadata": {
        "id": "QhiENpHuN5X5",
        "colab_type": "code",
        "colab": {}
      },
      "cell_type": "code",
      "source": [
        ""
      ],
      "execution_count": 0,
      "outputs": []
    }
  ]
}