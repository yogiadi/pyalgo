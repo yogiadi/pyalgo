{
  "nbformat": 4,
  "nbformat_minor": 0,
  "metadata": {
    "colab": {
      "name": "stacks.ipynb",
      "version": "0.3.2",
      "provenance": []
    }
  },
  "cells": [
    {
      "cell_type": "markdown",
      "metadata": {
        "id": "view-in-github",
        "colab_type": "text"
      },
      "source": [
        "[View in Colaboratory](https://colab.research.google.com/github/yogiadi/pyalgo/blob/master/stacks.ipynb)"
      ]
    },
    {
      "metadata": {
        "id": "L-gPvyc4Uira",
        "colab_type": "code",
        "colab": {}
      },
      "cell_type": "code",
      "source": [
        "class ArrayStack:\n",
        "  def __init__(self):\n",
        "    self._data=[]\n",
        "  def __len__(self):\n",
        "    return len(self._data)\n",
        "  def is_empty(self):\n",
        "    return len(self._data)==0\n",
        "  def push(self,e):\n",
        "    self._data.append(e)\n",
        "  def top(self):\n",
        "    if self.is_empty():\n",
        "      raise Empty('Stack is empty')\n",
        "    return self._data[-1]\n",
        "  def pop(self):\n",
        "    if self.is_empty():\n",
        "      raise Empty('Stack is empty')\n",
        "    return self._data.pop()\n",
        "  def reverse_file(filename):\n",
        "    S=ArrayStack()\n",
        "    original=open(filename)\n",
        "    for line in original:\n",
        "      S.push(line.rstrip('\\n'))\n",
        "    original.close()\n",
        "    output=open(filename,'w')\n",
        "    while not S.is_empty():\n",
        "      output.write(S.pop()+'\\n')\n",
        "    output.close()"
      ],
      "execution_count": 0,
      "outputs": []
    },
    {
      "metadata": {
        "id": "u-m_CP8NUnzS",
        "colab_type": "code",
        "colab": {}
      },
      "cell_type": "code",
      "source": [
        ""
      ],
      "execution_count": 0,
      "outputs": []
    }
  ]
}