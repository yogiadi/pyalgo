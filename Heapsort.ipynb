{
  "nbformat": 4,
  "nbformat_minor": 0,
  "metadata": {
    "colab": {
      "name": "Heapsort.ipynb",
      "version": "0.3.2",
      "provenance": [],
      "collapsed_sections": []
    }
  },
  "cells": [
    {
      "cell_type": "markdown",
      "metadata": {
        "id": "view-in-github",
        "colab_type": "text"
      },
      "source": [
        "[View in Colaboratory](https://colab.research.google.com/github/yogiadi/pyalgo/blob/master/Heapsort.ipynb)"
      ]
    },
    {
      "metadata": {
        "id": "MrsmYd_pdK_r",
        "colab_type": "code",
        "colab": {}
      },
      "cell_type": "code",
      "source": [
        "def max_heapify(A,i,n):\n",
        "  print(\"A is \",A,\" i is \",i,\" n is \",n)\n",
        "  left=2*i +1\n",
        "  print(\"Left is \",left)\n",
        "  right=2*i+2\n",
        "  print(\"Right is \",right)\n",
        "  max=i\n",
        "  if (left<=n-1 and A[left]>A[max]):\n",
        "    print(\"Left \",A[left],\" is greater than max \",A[max])\n",
        "    max=left\n",
        "    if (right<=n-1 and A[right]>A[max]):\n",
        "      print(\"Right \",A[right],\" is greater than max \",A[max])\n",
        "      max=right\n",
        "      if ( max != i):\n",
        "        print(\"Swap \",A[max],\" \",A[i])\n",
        "        A[max],A[i]=A[i],A[max]\n",
        "        print(\"Calling max_heapify again on max \",max)\n",
        "        max_heapify(A,max,n)"
      ],
      "execution_count": 0,
      "outputs": []
    },
    {
      "metadata": {
        "id": "Eu7mZfHEdclS",
        "colab_type": "code",
        "colab": {}
      },
      "cell_type": "code",
      "source": [
        ""
      ],
      "execution_count": 0,
      "outputs": []
    }
  ]
}