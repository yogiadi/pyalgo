{
  "nbformat": 4,
  "nbformat_minor": 0,
  "metadata": {
    "colab": {
      "name": "Heapsort.ipynb",
      "version": "0.3.2",
      "provenance": []
    }
  },
  "cells": [
    {
      "cell_type": "markdown",
      "metadata": {
        "id": "view-in-github",
        "colab_type": "text"
      },
      "source": [
        "[View in Colaboratory](https://colab.research.google.com/github/yogiadi/pyalgo/blob/master/Heapsort.ipynb)"
      ]
    },
    {
      "metadata": {
        "id": "MrsmYd_pdK_r",
        "colab_type": "code",
        "colab": {}
      },
      "cell_type": "code",
      "source": [
        "def max_heapify(A,i,n):\n",
        "  print(\"A is \",A,\" i is \",i,\" n is \",n)\n",
        "  left=2*i +1\n",
        "  print(\"Left is \",left)\n",
        "  right=2*i+2\n",
        "  print(\"Right is \",right)\n",
        "  max=i"
      ],
      "execution_count": 0,
      "outputs": []
    },
    {
      "metadata": {
        "id": "Eu7mZfHEdclS",
        "colab_type": "code",
        "colab": {}
      },
      "cell_type": "code",
      "source": [
        ""
      ],
      "execution_count": 0,
      "outputs": []
    }
  ]
}