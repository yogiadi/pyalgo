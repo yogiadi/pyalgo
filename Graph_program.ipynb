{
  "nbformat": 4,
  "nbformat_minor": 0,
  "metadata": {
    "colab": {
      "name": "Graph_program",
      "version": "0.3.2",
      "provenance": []
    }
  },
  "cells": [
    {
      "cell_type": "markdown",
      "metadata": {
        "id": "view-in-github",
        "colab_type": "text"
      },
      "source": [
        "[View in Colaboratory](https://colab.research.google.com/github/yogiadi/pyalgo/blob/master/Graph_program.ipynb)"
      ]
    },
    {
      "metadata": {
        "id": "DRsGBAfInDLZ",
        "colab_type": "code",
        "colab": {}
      },
      "cell_type": "code",
      "source": [
        "class Vertex:\n",
        "\tdef __init__(self,name):\n",
        "\t\tself.name=name\n",
        "\t\tself.neighbours=[]\n",
        "\t\tself.color=\"WHITE\"\n",
        "\t\tself.distance=math.inf\n",
        "\t\tself.parent=None\n",
        "\tdef add_neighbours(self,vertex):\n",
        "\t\tif vertex not in self.neighbours:\n",
        "\t\t\tself.neighbours.append(vertex)\n",
        "\tdef change_color(self,color):\n",
        "\t\tself.color=color\n",
        "\tdef change_distance(self,distance):\n",
        "\t\tself.distance=distance\n",
        "\tdef change_parent(self,vertex):\n",
        "\t\tself.parent=parent"
      ],
      "execution_count": 0,
      "outputs": []
    },
    {
      "metadata": {
        "id": "UmcidKvYncE1",
        "colab_type": "code",
        "colab": {}
      },
      "cell_type": "code",
      "source": [
        ""
      ],
      "execution_count": 0,
      "outputs": []
    }
  ]
}