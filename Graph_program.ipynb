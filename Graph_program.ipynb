{
  "nbformat": 4,
  "nbformat_minor": 0,
  "metadata": {
    "colab": {
      "name": "Graph_program",
      "version": "0.3.2",
      "provenance": [],
      "collapsed_sections": []
    }
  },
  "cells": [
    {
      "cell_type": "markdown",
      "metadata": {
        "id": "view-in-github",
        "colab_type": "text"
      },
      "source": [
        "[View in Colaboratory](https://colab.research.google.com/github/yogiadi/pyalgo/blob/master/Graph_program.ipynb)"
      ]
    },
    {
      "metadata": {
        "id": "DRsGBAfInDLZ",
        "colab_type": "code",
        "colab": {}
      },
      "cell_type": "code",
      "source": [
        "import numpy as np\n",
        "class Vertex:\n",
        "\tdef __init__(self,name):\n",
        "\t\tself.name=name\n",
        "\t\tself.neighbours=[]\n",
        "\t\tself.color=\"WHITE\"\n",
        "\t\tself.distance=np.inf\n",
        "\t\tself.parent=None\n",
        "\tdef add_neighbours(self,vertex):\n",
        "\t\tif vertex not in self.neighbours:\n",
        "\t\t\tself.neighbours.append(vertex)\n",
        "\tdef change_color(self,color):\n",
        "\t\tself.color=color\n",
        "\tdef change_distance(self,distance):\n",
        "\t\tself.distance=distance\n",
        "\tdef change_parent(self,vertex):\n",
        "\t\tself.parent=parent"
      ],
      "execution_count": 0,
      "outputs": []
    },
    {
      "metadata": {
        "id": "UmcidKvYncE1",
        "colab_type": "code",
        "colab": {}
      },
      "cell_type": "code",
      "source": [
        "class Graph:\n",
        "\tdef __init__(self,name):\n",
        "\t\tself.name=name\n",
        "\t\tself.vertices=[]\n",
        "\tdef add_vertex(self,vertex):\n",
        "\t\tif vertex not in self.vertices:\n",
        "\t\t\tself.vertices.append(vertex)\n",
        "\tdef add_edge(self,vertex1,vertex2):\n",
        "\t\tvertex1.add_neighbours(vertex2)\n",
        "\t\tvertex2.add_neighbours(vertex1)"
      ],
      "execution_count": 0,
      "outputs": []
    },
    {
      "metadata": {
        "id": "qy2Db4hJnxPE",
        "colab_type": "code",
        "colab": {}
      },
      "cell_type": "code",
      "source": [
        "class Queue:\n",
        "\tdef __init__(self,name):\n",
        "\t\tself.name=name\n",
        "\t\tself.items=[];\n",
        "\tdef is_empty(self):\n",
        "\t\treturn self.items==[]\n",
        "\tdef enqueue(self,item):\n",
        "\t\tself.items.insert(0,item)\n",
        "\tdef dequeue(self):\n",
        "\t\t return self.items.pop()\n",
        "\tdef size(self):\n",
        "\t\treturn len(items)"
      ],
      "execution_count": 0,
      "outputs": []
    },
    {
      "metadata": {
        "id": "Qbd-T--Xn0_v",
        "colab_type": "code",
        "colab": {}
      },
      "cell_type": "code",
      "source": [
        "\n",
        "r=Vertex('r')\n",
        "s=Vertex('s')\n",
        "t=Vertex('t')\n",
        "u,v,w,x,y=Vertex('u'),Vertex('v'),Vertex('w'),Vertex('x'),Vertex('y')\n",
        "graph=Graph('graph')\n",
        "graph.add_vertex(r)\n",
        "graph.add_vertex(s)\n",
        "graph.add_vertex(t)\n",
        "graph.add_vertex(u)\n",
        "graph.add_vertex(v)\n",
        "graph.add_vertex(w)\n",
        "graph.add_vertex(x)\n",
        "graph.add_vertex(y)\n",
        "graph.add_edge(r,v)\n",
        "graph.add_edge(r,s)\n",
        "graph.add_edge(s,w)\n",
        "graph.add_edge(w,t)\n",
        "graph.add_edge(w,x)\n",
        "graph.add_edge(t,u)\n",
        "graph.add_edge(t,x)\n",
        "graph.add_edge(u,y)\n",
        "graph.add_edge(x,y)\n",
        "graph.add_edge(x,u)"
      ],
      "execution_count": 0,
      "outputs": []
    },
    {
      "metadata": {
        "id": "OrS5sfOrn5Mr",
        "colab_type": "code",
        "colab": {}
      },
      "cell_type": "code",
      "source": [
        "def bfs(graph,vertex):\n",
        "\tvertex.color='GREY'\n",
        "\tvertex.distance=0\n",
        "\tprint(\"Vertex is \", vertex.name)\n",
        "\tq=Queue('queue')\n",
        "\tq.enqueue(vertex)\n",
        "\tfor elem in q.items:\n",
        "\t\tprint (\"Element in queue is \",elem.name)\n",
        "\twhile not q.is_empty():\n",
        "\t\tvertex1=q.dequeue()\n",
        "\t\tprint(\"Vertex1 is \", vertex1.name)\n",
        "\t\tfor elem in q.items:\n",
        "\t\t\tprint (\"Element in queue is \",elem.name)\n",
        "\t\tfor i in vertex1.neighbours:\n",
        "\t\t\tif i.color=='WHITE':\n",
        "\t\t\t\tprint(\"Vi is \", i.name)\n",
        "\t\t\t\ti.color='GREY'\n",
        "\t\t\t\ti.change_distance(vertex1.distance+1)\n",
        "\t\t\t\ti.parent=vertex1\n",
        "\t\t\t\tq.enqueue(i)\n",
        "\t\t\t\tfor elem in q.items:\n",
        "\t\t\t\t\tprint (\"Element in queue is \",elem.name)\n",
        "\t\tvertex1.color='BLACK'"
      ],
      "execution_count": 0,
      "outputs": []
    },
    {
      "metadata": {
        "id": "8O82bB82palB",
        "colab_type": "code",
        "colab": {}
      },
      "cell_type": "code",
      "source": [
        ""
      ],
      "execution_count": 0,
      "outputs": []
    }
  ]
}